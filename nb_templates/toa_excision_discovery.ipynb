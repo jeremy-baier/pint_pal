{
 "cells": [
  {
   "cell_type": "markdown",
   "metadata": {},
   "source": [
    "Before actually doing outlier runs, ensure you have a working version of `discovery`, `numpyro`, and `jax`."
   ]
  },
  {
   "cell_type": "code",
   "execution_count": 1,
   "metadata": {},
   "outputs": [],
   "source": [
    "%load_ext autoreload\n",
    "%autoreload 2"
   ]
  },
  {
   "cell_type": "code",
   "execution_count": 2,
   "metadata": {},
   "outputs": [],
   "source": [
    "import os, re\n",
    "import discovery as ds\n",
    "from tqdm import tqdm\n",
    "\n",
    "import numpy as np\n",
    "import scipy as sp\n",
    "import pandas as pd\n",
    "import matplotlib.pyplot as pp\n",
    "\n",
    "import jax\n",
    "import jax.numpy as jnp\n",
    "import glob\n",
    "import matplotlib.pyplot as plt\n",
    "import numpyro\n",
    "from numpyro import distributions as dist, infer\n",
    "from numpyro.handlers import reparam\n",
    "from numpyro.infer.reparam import LocScaleReparam\n",
    "import sys\n",
    "from loguru import logger\n",
    "import jax.scipy.linalg as jsl\n",
    "import json\n",
    "from discovery import selection_backend_flags, matrix\n",
    "#import outlier_utils as ou"
   ]
  },
  {
   "cell_type": "code",
   "execution_count": 13,
   "metadata": {},
   "outputs": [],
   "source": [
    "import pint_pal.lite_utils as lu\n",
    "import pint_pal.noise_utils as nu\n",
    "# from pint_pal.par_checker import *\n",
    "from pint_pal import utils\n",
    "from pint_pal.dmx_utils import setup_dmx, model_dmx_params, apply_frequency_ratio_cuts\n",
    "from pint_pal.timingconfiguration import TimingConfiguration\n",
    "from pint_pal.utils import apply_cut_flag, apply_cut_select\n",
    "from pint_pal.plot_utils import plot_residuals_time\n",
    "from pint_pal import outlier_utils as ou\n",
    "from enterprise.pulsar import Pulsar as ePulsar\n",
    "import yaml\n",
    "from astropy import log\n",
    "import pint.fitter\n",
    "from pint.utils import dmxparse"
   ]
  },
  {
   "cell_type": "code",
   "execution_count": 5,
   "metadata": {},
   "outputs": [],
   "source": [
    "log.setLevel(\"WARNING\") # Set desired verbosity of log statements (DEBUG/INFO/WARNING/ERROR)\n",
    "log_to_file = False\n",
    "\n",
    "lu.git_config_info()"
   ]
  },
  {
   "cell_type": "code",
   "execution_count": 6,
   "metadata": {},
   "outputs": [],
   "source": [
    "# Notebook run settings\n",
    "autorun = False\n",
    "analyze_postfit = True # was originally false jgb\n",
    "run_outlier_analysis = True # was originally false jgb\n",
    "use_outlier_results = True\n",
    "epochdrop_threads = 20\n",
    "if autorun:\n",
    "    run_outlier_analysis = True\n",
    "    use_outlier_results = False\n",
    "    \n",
    "# Load tim file with pout values already assigned (i.e. if restarting outlier analyses midway through)\n",
    "load_pout = None"
   ]
  },
  {
   "cell_type": "code",
   "execution_count": null,
   "metadata": {},
   "outputs": [],
   "source": [
    "config = \"configs/[psr_name].[nb or wb].yaml\"  # fill in actual path\n",
    "par_directory = None   # default location\n",
    "tim_directory = None   # default location\n",
    "tc = TimingConfiguration(config, par_directory=par_directory, tim_directory=tim_directory)\n",
    "using_wideband = tc.get_toa_type() == 'WB'\n",
    "\n",
    "# For manual inspection:\n",
    "file_matches, toa_matches = tc.get_investigation_files()"
   ]
  },
  {
   "cell_type": "markdown",
   "metadata": {},
   "source": [
    "## the below is a testing cell. to be removed for the template cell -- jgb"
   ]
  },
  {
   "cell_type": "code",
   "execution_count": 7,
   "metadata": {},
   "outputs": [],
   "source": [
    "## testing cell -- jgb\n",
    "psr_name = 'J0709+0458'\n",
    "ng20_dir = \"/shared/hazgrav/data/nanograv/20yr/ng20\"\n",
    "config = f\"{ng20_dir}/configs/{psr_name}.nb.yaml\"  # fill in actual path\n",
    "par_directory = ng20_dir+'/results/'   # default location\n",
    "tim_directory = ng20_dir+'/toas/'   # default location\n",
    "tc = TimingConfiguration(config, par_directory=par_directory, tim_directory=tim_directory)\n",
    "using_wideband = tc.get_toa_type() == 'WB'\n",
    "\n",
    "# For manual inspection:\n",
    "file_matches, toa_matches = tc.get_investigation_files()"
   ]
  },
  {
   "cell_type": "code",
   "execution_count": 25,
   "metadata": {},
   "outputs": [
    {
     "name": "stderr",
     "output_type": "stream",
     "text": [
      "WARNING: excised-tim is unset or file does not exist [pint_pal.timingconfiguration]\n",
      "\u001b[32m2025-08-22 13:34:43.397\u001b[0m | \u001b[1mINFO    \u001b[0m | \u001b[36mpint.toa\u001b[0m:\u001b[36mget_TOAs\u001b[0m:\u001b[36m239\u001b[0m - \u001b[1mReading TOAs from the picklefile for `['/shared/hazgrav/data/nanograv/20yr/ng20/toas/J0709+0458.L-wide.PUPPI.15y.x.nb.tim', '/shared/hazgrav/data/nanograv/20yr/ng20/toas/J0709+0458.S-wide.PUPPI.15y.x.nb.tim']`\u001b[0m\n",
      "WARNING: One or more bad-toa entries lack reasons for excision; please add them. [pint_pal.timingconfiguration]\n",
      "WARNING: One or more bad-file entries lack reasons for excision; please add them. [pint_pal.timingconfiguration]\n"
     ]
    },
    {
     "data": {
      "text/plain": [
       "3133 TOAs starting at MJD 57389.2116850149"
      ]
     },
     "execution_count": 25,
     "metadata": {},
     "output_type": "execute_result"
    }
   ],
   "source": [
    "# Use excise.tim file if it exists, else revert to raw TOAs & initial cuts\n",
    "use_toa_pickle = False\n",
    "mo,to = tc.get_model_and_toas(excised=True,usepickle=use_toa_pickle)\n",
    "if not to: mo,to = tc.get_model_and_toas(apply_initial_cuts=True)\n",
    "tc.manual_cuts(to)\n",
    "#to = setup_dmx(mo,to,frequency_ratio=tc.get_fratio(),max_delta_t=tc.get_sw_delay())\n",
    "to"
   ]
  },
  {
   "cell_type": "code",
   "execution_count": 26,
   "metadata": {},
   "outputs": [],
   "source": [
    "dmx_ranges, dmx_vals, dmx_errs = model_dmx_params(mo)"
   ]
  },
  {
   "cell_type": "code",
   "execution_count": 27,
   "metadata": {},
   "outputs": [
    {
     "data": {
      "text/plain": [
       "3133 TOAs starting at MJD 57389.2116850149"
      ]
     },
     "execution_count": 27,
     "metadata": {},
     "output_type": "execute_result"
    }
   ],
   "source": [
    "to"
   ]
  },
  {
   "cell_type": "code",
   "execution_count": 28,
   "metadata": {},
   "outputs": [],
   "source": [
    "to = apply_frequency_ratio_cuts(to, dmx_ranges, frequency_ratio=1.1, quiet=False)"
   ]
  },
  {
   "cell_type": "code",
   "execution_count": 29,
   "metadata": {},
   "outputs": [
    {
     "data": {
      "text/plain": [
       "3132 TOAs starting at MJD 57389.2116850149"
      ]
     },
     "execution_count": 29,
     "metadata": {},
     "output_type": "execute_result"
    }
   ],
   "source": [
    "to"
   ]
  },
  {
   "cell_type": "code",
   "execution_count": 8,
   "metadata": {},
   "outputs": [
    {
     "name": "stderr",
     "output_type": "stream",
     "text": [
      "\u001b[32m2025-08-22 12:46:08.726\u001b[0m | \u001b[1mINFO    \u001b[0m | \u001b[36mpint.toa\u001b[0m:\u001b[36mget_TOAs\u001b[0m:\u001b[36m239\u001b[0m - \u001b[1mReading TOAs from the picklefile for `['/shared/hazgrav/data/nanograv/20yr/ng20/toas/J0437-4715.1.5GHz.YUPPI.20y.P.nb.tim', '/shared/hazgrav/data/nanograv/20yr/ng20/toas/J0437-4715.3GHz.YUPPI.20y.P.nb.tim']`\u001b[0m\n"
     ]
    }
   ],
   "source": [
    "mo,to = tc.get_model_and_toas(apply_initial_cuts=True)\n",
    "to = setup_dmx(mo,to,frequency_ratio=tc.get_fratio(),max_delta_t=tc.get_sw_delay())"
   ]
  },
  {
   "cell_type": "code",
   "execution_count": 12,
   "metadata": {},
   "outputs": [],
   "source": [
    "wndict = json.load(open(f\"{ng20_dir}/../noise_dicts/ng20_v1p1_dmx_noise_dict.json\", 'r'))"
   ]
  },
  {
   "cell_type": "code",
   "execution_count": 13,
   "metadata": {},
   "outputs": [
    {
     "name": "stderr",
     "output_type": "stream",
     "text": [
      "\u001b[32m2025-08-22 11:38:59.479\u001b[0m | \u001b[1mINFO    \u001b[0m | \u001b[36mpint.solar_system_ephemerides\u001b[0m:\u001b[36mload_kernel\u001b[0m:\u001b[36m194\u001b[0m - \u001b[1mSet solar system ephemeris to de440 through astropy\u001b[0m\n",
      "\u001b[32m2025-08-22 11:39:01.855\u001b[0m | \u001b[34m\u001b[1mDEBUG   \u001b[0m | \u001b[36mpint.toa\u001b[0m:\u001b[36madd_vel_ecl\u001b[0m:\u001b[36m2496\u001b[0m - \u001b[34m\u001b[1mAdding column ssb_obs_vel_ecl\u001b[0m\n",
      "\u001b[32m2025-08-22 11:39:01.856\u001b[0m | \u001b[34m\u001b[1mDEBUG   \u001b[0m | \u001b[36mpint.models.astrometry\u001b[0m:\u001b[36mssb_to_psb_xyz_ECL\u001b[0m:\u001b[36m983\u001b[0m - \u001b[34m\u001b[1mECL not specified; using IERS2010.\u001b[0m\n",
      "\u001b[32m2025-08-22 11:39:01.875\u001b[0m | \u001b[34m\u001b[1mDEBUG   \u001b[0m | \u001b[36mpint.models.astrometry\u001b[0m:\u001b[36mssb_to_psb_xyz_ECL\u001b[0m:\u001b[36m983\u001b[0m - \u001b[34m\u001b[1mECL not specified; using IERS2010.\u001b[0m\n",
      "\u001b[32m2025-08-22 11:39:01.895\u001b[0m | \u001b[34m\u001b[1mDEBUG   \u001b[0m | \u001b[36mpint.models.astrometry\u001b[0m:\u001b[36mssb_to_psb_xyz_ECL\u001b[0m:\u001b[36m983\u001b[0m - \u001b[34m\u001b[1mECL not specified; using IERS2010.\u001b[0m\n",
      "\u001b[32m2025-08-22 11:39:04.453\u001b[0m | \u001b[34m\u001b[1mDEBUG   \u001b[0m | \u001b[36mpint.models.astrometry\u001b[0m:\u001b[36mssb_to_psb_xyz_ECL\u001b[0m:\u001b[36m983\u001b[0m - \u001b[34m\u001b[1mECL not specified; using IERS2010.\u001b[0m\n",
      "\u001b[32m2025-08-22 11:39:04.471\u001b[0m | \u001b[34m\u001b[1mDEBUG   \u001b[0m | \u001b[36mpint.models.astrometry\u001b[0m:\u001b[36mssb_to_psb_xyz_ECL\u001b[0m:\u001b[36m983\u001b[0m - \u001b[34m\u001b[1mECL not specified; using IERS2010.\u001b[0m\n",
      "\u001b[32m2025-08-22 11:39:04.492\u001b[0m | \u001b[34m\u001b[1mDEBUG   \u001b[0m | \u001b[36mpint.models.astrometry\u001b[0m:\u001b[36mssb_to_psb_xyz_ECL\u001b[0m:\u001b[36m983\u001b[0m - \u001b[34m\u001b[1mECL not specified; using IERS2010.\u001b[0m\n",
      "\u001b[32m2025-08-22 11:39:04.637\u001b[0m | \u001b[34m\u001b[1mDEBUG   \u001b[0m | \u001b[36mpint.models.astrometry\u001b[0m:\u001b[36mssb_to_psb_xyz_ECL\u001b[0m:\u001b[36m983\u001b[0m - \u001b[34m\u001b[1mECL not specified; using IERS2010.\u001b[0m\n",
      "\u001b[32m2025-08-22 11:39:04.690\u001b[0m | \u001b[34m\u001b[1mDEBUG   \u001b[0m | \u001b[36mpint.models.absolute_phase\u001b[0m:\u001b[36mget_TZR_toa\u001b[0m:\u001b[36m101\u001b[0m - \u001b[34m\u001b[1mCreating and dealing with the single TZR_toa for absolute phase\u001b[0m\n",
      "\u001b[32m2025-08-22 11:39:04.695\u001b[0m | \u001b[34m\u001b[1mDEBUG   \u001b[0m | \u001b[36mpint.toa\u001b[0m:\u001b[36m__init__\u001b[0m:\u001b[36m1377\u001b[0m - \u001b[34m\u001b[1mNo pulse number flags found in the TOAs\u001b[0m\n",
      "\u001b[32m2025-08-22 11:39:04.696\u001b[0m | \u001b[34m\u001b[1mDEBUG   \u001b[0m | \u001b[36mpint.toa\u001b[0m:\u001b[36mapply_clock_corrections\u001b[0m:\u001b[36m2232\u001b[0m - \u001b[34m\u001b[1mApplying clock corrections (include_bipm = True)\u001b[0m\n",
      "\u001b[32m2025-08-22 11:39:04.697\u001b[0m | \u001b[1mINFO    \u001b[0m | \u001b[36mpint.observatory\u001b[0m:\u001b[36mgps_correction\u001b[0m:\u001b[36m230\u001b[0m - \u001b[1mApplying GPS to UTC clock correction (~few nanoseconds)\u001b[0m\n",
      "\u001b[32m2025-08-22 11:39:04.700\u001b[0m | \u001b[1mINFO    \u001b[0m | \u001b[36mpint.observatory\u001b[0m:\u001b[36mbipm_correction\u001b[0m:\u001b[36m245\u001b[0m - \u001b[1mApplying TT(TAI) to TT(BIPM2023) clock correction (~27 us)\u001b[0m\n",
      "\u001b[32m2025-08-22 11:39:04.702\u001b[0m | \u001b[1mINFO    \u001b[0m | \u001b[36mpint.observatory.topo_obs\u001b[0m:\u001b[36mclock_corrections\u001b[0m:\u001b[36m340\u001b[0m - \u001b[1mApplying observatory clock corrections for observatory='vla'.\u001b[0m\n",
      "\u001b[32m2025-08-22 11:39:04.704\u001b[0m | \u001b[34m\u001b[1mDEBUG   \u001b[0m | \u001b[36mpint.toa\u001b[0m:\u001b[36mcompute_TDBs\u001b[0m:\u001b[36m2278\u001b[0m - \u001b[34m\u001b[1mComputing TDB columns.\u001b[0m\n",
      "\u001b[32m2025-08-22 11:39:04.705\u001b[0m | \u001b[34m\u001b[1mDEBUG   \u001b[0m | \u001b[36mpint.toa\u001b[0m:\u001b[36mcompute_TDBs\u001b[0m:\u001b[36m2299\u001b[0m - \u001b[34m\u001b[1mUsing EPHEM = DE440 for TDB calculation.\u001b[0m\n",
      "\u001b[32m2025-08-22 11:39:04.709\u001b[0m | \u001b[34m\u001b[1mDEBUG   \u001b[0m | \u001b[36mpint.toa\u001b[0m:\u001b[36mcompute_posvels\u001b[0m:\u001b[36m2374\u001b[0m - \u001b[34m\u001b[1mComputing PosVels of observatories, Earth and planets, using DE440\u001b[0m\n",
      "\u001b[32m2025-08-22 11:39:04.711\u001b[0m | \u001b[1mINFO    \u001b[0m | \u001b[36mpint.solar_system_ephemerides\u001b[0m:\u001b[36mload_kernel\u001b[0m:\u001b[36m194\u001b[0m - \u001b[1mSet solar system ephemeris to de440 through astropy\u001b[0m\n",
      "\u001b[32m2025-08-22 11:39:04.721\u001b[0m | \u001b[34m\u001b[1mDEBUG   \u001b[0m | \u001b[36mpint.toa\u001b[0m:\u001b[36mcompute_posvels\u001b[0m:\u001b[36m2432\u001b[0m - \u001b[34m\u001b[1mSSB obs pos [-1.45544963e+11  2.57072346e+10  1.11219301e+10] m\u001b[0m\n",
      "\u001b[32m2025-08-22 11:39:04.722\u001b[0m | \u001b[1mINFO    \u001b[0m | \u001b[36mpint.solar_system_ephemerides\u001b[0m:\u001b[36mload_kernel\u001b[0m:\u001b[36m194\u001b[0m - \u001b[1mSet solar system ephemeris to de440 through astropy\u001b[0m\n",
      "\u001b[32m2025-08-22 11:39:04.724\u001b[0m | \u001b[1mINFO    \u001b[0m | \u001b[36mpint.solar_system_ephemerides\u001b[0m:\u001b[36mload_kernel\u001b[0m:\u001b[36m194\u001b[0m - \u001b[1mSet solar system ephemeris to de440 through astropy\u001b[0m\n",
      "\u001b[32m2025-08-22 11:39:04.727\u001b[0m | \u001b[1mINFO    \u001b[0m | \u001b[36mpint.solar_system_ephemerides\u001b[0m:\u001b[36mload_kernel\u001b[0m:\u001b[36m194\u001b[0m - \u001b[1mSet solar system ephemeris to de440 through astropy\u001b[0m\n",
      "\u001b[32m2025-08-22 11:39:04.729\u001b[0m | \u001b[1mINFO    \u001b[0m | \u001b[36mpint.solar_system_ephemerides\u001b[0m:\u001b[36mload_kernel\u001b[0m:\u001b[36m194\u001b[0m - \u001b[1mSet solar system ephemeris to de440 through astropy\u001b[0m\n",
      "\u001b[32m2025-08-22 11:39:04.732\u001b[0m | \u001b[1mINFO    \u001b[0m | \u001b[36mpint.solar_system_ephemerides\u001b[0m:\u001b[36mload_kernel\u001b[0m:\u001b[36m194\u001b[0m - \u001b[1mSet solar system ephemeris to de440 through astropy\u001b[0m\n",
      "\u001b[32m2025-08-22 11:39:04.734\u001b[0m | \u001b[1mINFO    \u001b[0m | \u001b[36mpint.solar_system_ephemerides\u001b[0m:\u001b[36mload_kernel\u001b[0m:\u001b[36m194\u001b[0m - \u001b[1mSet solar system ephemeris to de440 through astropy\u001b[0m\n",
      "\u001b[32m2025-08-22 11:39:04.736\u001b[0m | \u001b[1mINFO    \u001b[0m | \u001b[36mpint.solar_system_ephemerides\u001b[0m:\u001b[36mload_kernel\u001b[0m:\u001b[36m194\u001b[0m - \u001b[1mSet solar system ephemeris to de440 through astropy\u001b[0m\n",
      "\u001b[32m2025-08-22 11:39:04.738\u001b[0m | \u001b[34m\u001b[1mDEBUG   \u001b[0m | \u001b[36mpint.toa\u001b[0m:\u001b[36mcompute_posvels\u001b[0m:\u001b[36m2446\u001b[0m - \u001b[34m\u001b[1mAdding columns ssb_obs_pos ssb_obs_vel obs_sun_pos obs_jupiter_pos obs_saturn_pos obs_venus_pos obs_uranus_pos obs_neptune_pos obs_earth_pos\u001b[0m\n",
      "\u001b[32m2025-08-22 11:39:04.741\u001b[0m | \u001b[34m\u001b[1mDEBUG   \u001b[0m | \u001b[36mpint.models.absolute_phase\u001b[0m:\u001b[36mget_TZR_toa\u001b[0m:\u001b[36m122\u001b[0m - \u001b[34m\u001b[1mDone with TZR_toa\u001b[0m\n",
      "\u001b[32m2025-08-22 11:39:04.872\u001b[0m | \u001b[1mINFO    \u001b[0m | \u001b[36mpint.solar_system_ephemerides\u001b[0m:\u001b[36mload_kernel\u001b[0m:\u001b[36m194\u001b[0m - \u001b[1mSet solar system ephemeris to de440 through astropy\u001b[0m\n",
      "\u001b[32m2025-08-22 11:39:04.884\u001b[0m | \u001b[34m\u001b[1mDEBUG   \u001b[0m | \u001b[36mpint.toa\u001b[0m:\u001b[36madd_vel_ecl\u001b[0m:\u001b[36m2496\u001b[0m - \u001b[34m\u001b[1mAdding column ssb_obs_vel_ecl\u001b[0m\n",
      "\u001b[32m2025-08-22 11:39:04.885\u001b[0m | \u001b[34m\u001b[1mDEBUG   \u001b[0m | \u001b[36mpint.models.astrometry\u001b[0m:\u001b[36mssb_to_psb_xyz_ECL\u001b[0m:\u001b[36m983\u001b[0m - \u001b[34m\u001b[1mECL not specified; using IERS2010.\u001b[0m\n",
      "\u001b[32m2025-08-22 11:39:04.888\u001b[0m | \u001b[34m\u001b[1mDEBUG   \u001b[0m | \u001b[36mpint.models.astrometry\u001b[0m:\u001b[36mssb_to_psb_xyz_ECL\u001b[0m:\u001b[36m983\u001b[0m - \u001b[34m\u001b[1mECL not specified; using IERS2010.\u001b[0m\n",
      "\u001b[32m2025-08-22 11:39:04.894\u001b[0m | \u001b[34m\u001b[1mDEBUG   \u001b[0m | \u001b[36mpint.models.astrometry\u001b[0m:\u001b[36mssb_to_psb_xyz_ECL\u001b[0m:\u001b[36m983\u001b[0m - \u001b[34m\u001b[1mECL not specified; using IERS2010.\u001b[0m\n",
      "\u001b[32m2025-08-22 11:39:04.926\u001b[0m | \u001b[34m\u001b[1mDEBUG   \u001b[0m | \u001b[36mpint.models.astrometry\u001b[0m:\u001b[36mssb_to_psb_xyz_ECL\u001b[0m:\u001b[36m983\u001b[0m - \u001b[34m\u001b[1mECL not specified; using IERS2010.\u001b[0m\n",
      "\u001b[32m2025-08-22 11:39:07.718\u001b[0m | \u001b[34m\u001b[1mDEBUG   \u001b[0m | \u001b[36mpint.models.astrometry\u001b[0m:\u001b[36mssb_to_psb_xyz_ECL\u001b[0m:\u001b[36m983\u001b[0m - \u001b[34m\u001b[1mECL not specified; using IERS2010.\u001b[0m\n",
      "\u001b[32m2025-08-22 11:39:07.736\u001b[0m | \u001b[34m\u001b[1mDEBUG   \u001b[0m | \u001b[36mpint.models.astrometry\u001b[0m:\u001b[36mssb_to_psb_xyz_ECL\u001b[0m:\u001b[36m983\u001b[0m - \u001b[34m\u001b[1mECL not specified; using IERS2010.\u001b[0m\n",
      "\u001b[32m2025-08-22 11:39:07.757\u001b[0m | \u001b[34m\u001b[1mDEBUG   \u001b[0m | \u001b[36mpint.models.astrometry\u001b[0m:\u001b[36mssb_to_psb_xyz_ECL\u001b[0m:\u001b[36m983\u001b[0m - \u001b[34m\u001b[1mECL not specified; using IERS2010.\u001b[0m\n",
      "\u001b[32m2025-08-22 11:39:07.907\u001b[0m | \u001b[34m\u001b[1mDEBUG   \u001b[0m | \u001b[36mpint.models.astrometry\u001b[0m:\u001b[36mssb_to_psb_xyz_ECL\u001b[0m:\u001b[36m983\u001b[0m - \u001b[34m\u001b[1mECL not specified; using IERS2010.\u001b[0m\n",
      "\u001b[32m2025-08-22 11:39:10.491\u001b[0m | \u001b[34m\u001b[1mDEBUG   \u001b[0m | \u001b[36mpint.models.astrometry\u001b[0m:\u001b[36mssb_to_psb_xyz_ECL\u001b[0m:\u001b[36m983\u001b[0m - \u001b[34m\u001b[1mECL not specified; using IERS2010.\u001b[0m\n",
      "\u001b[32m2025-08-22 11:39:10.510\u001b[0m | \u001b[34m\u001b[1mDEBUG   \u001b[0m | \u001b[36mpint.models.astrometry\u001b[0m:\u001b[36mssb_to_psb_xyz_ECL\u001b[0m:\u001b[36m983\u001b[0m - \u001b[34m\u001b[1mECL not specified; using IERS2010.\u001b[0m\n",
      "\u001b[32m2025-08-22 11:39:10.531\u001b[0m | \u001b[34m\u001b[1mDEBUG   \u001b[0m | \u001b[36mpint.models.astrometry\u001b[0m:\u001b[36mssb_to_psb_xyz_ECL\u001b[0m:\u001b[36m983\u001b[0m - \u001b[34m\u001b[1mECL not specified; using IERS2010.\u001b[0m\n",
      "\u001b[32m2025-08-22 11:39:10.675\u001b[0m | \u001b[34m\u001b[1mDEBUG   \u001b[0m | \u001b[36mpint.models.astrometry\u001b[0m:\u001b[36mssb_to_psb_xyz_ECL\u001b[0m:\u001b[36m983\u001b[0m - \u001b[34m\u001b[1mECL not specified; using IERS2010.\u001b[0m\n",
      "\u001b[32m2025-08-22 11:39:13.854\u001b[0m | \u001b[34m\u001b[1mDEBUG   \u001b[0m | \u001b[36mpint.models.astrometry\u001b[0m:\u001b[36mssb_to_psb_xyz_ECL\u001b[0m:\u001b[36m983\u001b[0m - \u001b[34m\u001b[1mECL not specified; using IERS2010.\u001b[0m\n",
      "\u001b[32m2025-08-22 11:39:13.873\u001b[0m | \u001b[34m\u001b[1mDEBUG   \u001b[0m | \u001b[36mpint.models.astrometry\u001b[0m:\u001b[36mssb_to_psb_xyz_ECL\u001b[0m:\u001b[36m983\u001b[0m - \u001b[34m\u001b[1mECL not specified; using IERS2010.\u001b[0m\n",
      "\u001b[32m2025-08-22 11:39:13.894\u001b[0m | \u001b[34m\u001b[1mDEBUG   \u001b[0m | \u001b[36mpint.models.astrometry\u001b[0m:\u001b[36mssb_to_psb_xyz_ECL\u001b[0m:\u001b[36m983\u001b[0m - \u001b[34m\u001b[1mECL not specified; using IERS2010.\u001b[0m\n",
      "\u001b[32m2025-08-22 11:39:14.041\u001b[0m | \u001b[34m\u001b[1mDEBUG   \u001b[0m | \u001b[36mpint.models.astrometry\u001b[0m:\u001b[36mssb_to_psb_xyz_ECL\u001b[0m:\u001b[36m983\u001b[0m - \u001b[34m\u001b[1mECL not specified; using IERS2010.\u001b[0m\n",
      "\u001b[32m2025-08-22 11:39:16.723\u001b[0m | \u001b[34m\u001b[1mDEBUG   \u001b[0m | \u001b[36mpint.models.astrometry\u001b[0m:\u001b[36mssb_to_psb_xyz_ECL\u001b[0m:\u001b[36m983\u001b[0m - \u001b[34m\u001b[1mECL not specified; using IERS2010.\u001b[0m\n",
      "\u001b[32m2025-08-22 11:39:16.742\u001b[0m | \u001b[34m\u001b[1mDEBUG   \u001b[0m | \u001b[36mpint.models.astrometry\u001b[0m:\u001b[36mssb_to_psb_xyz_ECL\u001b[0m:\u001b[36m983\u001b[0m - \u001b[34m\u001b[1mECL not specified; using IERS2010.\u001b[0m\n",
      "\u001b[32m2025-08-22 11:39:16.763\u001b[0m | \u001b[34m\u001b[1mDEBUG   \u001b[0m | \u001b[36mpint.models.astrometry\u001b[0m:\u001b[36mssb_to_psb_xyz_ECL\u001b[0m:\u001b[36m983\u001b[0m - \u001b[34m\u001b[1mECL not specified; using IERS2010.\u001b[0m\n",
      "\u001b[32m2025-08-22 11:39:16.909\u001b[0m | \u001b[34m\u001b[1mDEBUG   \u001b[0m | \u001b[36mpint.models.astrometry\u001b[0m:\u001b[36mssb_to_psb_xyz_ECL\u001b[0m:\u001b[36m983\u001b[0m - \u001b[34m\u001b[1mECL not specified; using IERS2010.\u001b[0m\n",
      "\u001b[32m2025-08-22 11:39:19.603\u001b[0m | \u001b[34m\u001b[1mDEBUG   \u001b[0m | \u001b[36mpint.models.astrometry\u001b[0m:\u001b[36mssb_to_psb_xyz_ECL\u001b[0m:\u001b[36m983\u001b[0m - \u001b[34m\u001b[1mECL not specified; using IERS2010.\u001b[0m\n",
      "\u001b[32m2025-08-22 11:39:19.621\u001b[0m | \u001b[34m\u001b[1mDEBUG   \u001b[0m | \u001b[36mpint.models.astrometry\u001b[0m:\u001b[36mssb_to_psb_xyz_ECL\u001b[0m:\u001b[36m983\u001b[0m - \u001b[34m\u001b[1mECL not specified; using IERS2010.\u001b[0m\n",
      "\u001b[32m2025-08-22 11:39:19.642\u001b[0m | \u001b[34m\u001b[1mDEBUG   \u001b[0m | \u001b[36mpint.models.astrometry\u001b[0m:\u001b[36mssb_to_psb_xyz_ECL\u001b[0m:\u001b[36m983\u001b[0m - \u001b[34m\u001b[1mECL not specified; using IERS2010.\u001b[0m\n",
      "\u001b[32m2025-08-22 11:39:19.787\u001b[0m | \u001b[34m\u001b[1mDEBUG   \u001b[0m | \u001b[36mpint.models.astrometry\u001b[0m:\u001b[36mssb_to_psb_xyz_ECL\u001b[0m:\u001b[36m983\u001b[0m - \u001b[34m\u001b[1mECL not specified; using IERS2010.\u001b[0m\n",
      "\u001b[32m2025-08-22 11:39:22.452\u001b[0m | \u001b[34m\u001b[1mDEBUG   \u001b[0m | \u001b[36mpint.models.astrometry\u001b[0m:\u001b[36mssb_to_psb_xyz_ECL\u001b[0m:\u001b[36m983\u001b[0m - \u001b[34m\u001b[1mECL not specified; using IERS2010.\u001b[0m\n",
      "\u001b[32m2025-08-22 11:39:22.470\u001b[0m | \u001b[34m\u001b[1mDEBUG   \u001b[0m | \u001b[36mpint.models.astrometry\u001b[0m:\u001b[36mssb_to_psb_xyz_ECL\u001b[0m:\u001b[36m983\u001b[0m - \u001b[34m\u001b[1mECL not specified; using IERS2010.\u001b[0m\n",
      "\u001b[32m2025-08-22 11:39:22.490\u001b[0m | \u001b[34m\u001b[1mDEBUG   \u001b[0m | \u001b[36mpint.models.astrometry\u001b[0m:\u001b[36mssb_to_psb_xyz_ECL\u001b[0m:\u001b[36m983\u001b[0m - \u001b[34m\u001b[1mECL not specified; using IERS2010.\u001b[0m\n",
      "\u001b[32m2025-08-22 11:39:22.633\u001b[0m | \u001b[34m\u001b[1mDEBUG   \u001b[0m | \u001b[36mpint.models.astrometry\u001b[0m:\u001b[36mssb_to_psb_xyz_ECL\u001b[0m:\u001b[36m983\u001b[0m - \u001b[34m\u001b[1mECL not specified; using IERS2010.\u001b[0m\n",
      "\u001b[32m2025-08-22 11:39:22.777\u001b[0m | \u001b[34m\u001b[1mDEBUG   \u001b[0m | \u001b[36mpint.models.astrometry\u001b[0m:\u001b[36mssb_to_psb_xyz_ECL\u001b[0m:\u001b[36m983\u001b[0m - \u001b[34m\u001b[1mECL not specified; using IERS2010.\u001b[0m\n",
      "\u001b[32m2025-08-22 11:39:22.793\u001b[0m | \u001b[34m\u001b[1mDEBUG   \u001b[0m | \u001b[36mpint.models.astrometry\u001b[0m:\u001b[36mssb_to_psb_xyz_ECL\u001b[0m:\u001b[36m983\u001b[0m - \u001b[34m\u001b[1mECL not specified; using IERS2010.\u001b[0m\n",
      "\u001b[32m2025-08-22 11:39:22.814\u001b[0m | \u001b[34m\u001b[1mDEBUG   \u001b[0m | \u001b[36mpint.models.astrometry\u001b[0m:\u001b[36mssb_to_psb_xyz_ECL\u001b[0m:\u001b[36m983\u001b[0m - \u001b[34m\u001b[1mECL not specified; using IERS2010.\u001b[0m\n",
      "\u001b[32m2025-08-22 11:39:22.830\u001b[0m | \u001b[34m\u001b[1mDEBUG   \u001b[0m | \u001b[36mpint.models.astrometry\u001b[0m:\u001b[36mssb_to_psb_xyz_ECL\u001b[0m:\u001b[36m983\u001b[0m - \u001b[34m\u001b[1mECL not specified; using IERS2010.\u001b[0m\n",
      "\u001b[32m2025-08-22 11:39:22.851\u001b[0m | \u001b[34m\u001b[1mDEBUG   \u001b[0m | \u001b[36mpint.models.astrometry\u001b[0m:\u001b[36mssb_to_psb_xyz_ECL\u001b[0m:\u001b[36m983\u001b[0m - \u001b[34m\u001b[1mECL not specified; using IERS2010.\u001b[0m\n",
      "\u001b[32m2025-08-22 11:39:22.868\u001b[0m | \u001b[34m\u001b[1mDEBUG   \u001b[0m | \u001b[36mpint.models.astrometry\u001b[0m:\u001b[36mssb_to_psb_xyz_ECL\u001b[0m:\u001b[36m983\u001b[0m - \u001b[34m\u001b[1mECL not specified; using IERS2010.\u001b[0m\n",
      "\u001b[32m2025-08-22 11:39:22.890\u001b[0m | \u001b[34m\u001b[1mDEBUG   \u001b[0m | \u001b[36mpint.models.astrometry\u001b[0m:\u001b[36mssb_to_psb_xyz_ECL\u001b[0m:\u001b[36m983\u001b[0m - \u001b[34m\u001b[1mECL not specified; using IERS2010.\u001b[0m\n",
      "\u001b[32m2025-08-22 11:39:22.906\u001b[0m | \u001b[34m\u001b[1mDEBUG   \u001b[0m | \u001b[36mpint.models.astrometry\u001b[0m:\u001b[36mssb_to_psb_xyz_ECL\u001b[0m:\u001b[36m983\u001b[0m - \u001b[34m\u001b[1mECL not specified; using IERS2010.\u001b[0m\n",
      "\u001b[32m2025-08-22 11:39:22.927\u001b[0m | \u001b[34m\u001b[1mDEBUG   \u001b[0m | \u001b[36mpint.models.astrometry\u001b[0m:\u001b[36mssb_to_psb_xyz_ECL\u001b[0m:\u001b[36m983\u001b[0m - \u001b[34m\u001b[1mECL not specified; using IERS2010.\u001b[0m\n",
      "\u001b[32m2025-08-22 11:39:22.943\u001b[0m | \u001b[34m\u001b[1mDEBUG   \u001b[0m | \u001b[36mpint.models.astrometry\u001b[0m:\u001b[36mssb_to_psb_xyz_ECL\u001b[0m:\u001b[36m983\u001b[0m - \u001b[34m\u001b[1mECL not specified; using IERS2010.\u001b[0m\n",
      "\u001b[32m2025-08-22 11:39:22.963\u001b[0m | \u001b[34m\u001b[1mDEBUG   \u001b[0m | \u001b[36mpint.models.astrometry\u001b[0m:\u001b[36mssb_to_psb_xyz_ECL\u001b[0m:\u001b[36m983\u001b[0m - \u001b[34m\u001b[1mECL not specified; using IERS2010.\u001b[0m\n",
      "\u001b[32m2025-08-22 11:39:22.980\u001b[0m | \u001b[34m\u001b[1mDEBUG   \u001b[0m | \u001b[36mpint.models.astrometry\u001b[0m:\u001b[36mssb_to_psb_xyz_ECL\u001b[0m:\u001b[36m983\u001b[0m - \u001b[34m\u001b[1mECL not specified; using IERS2010.\u001b[0m\n",
      "\u001b[32m2025-08-22 11:39:23.001\u001b[0m | \u001b[34m\u001b[1mDEBUG   \u001b[0m | \u001b[36mpint.models.astrometry\u001b[0m:\u001b[36mssb_to_psb_xyz_ECL\u001b[0m:\u001b[36m983\u001b[0m - \u001b[34m\u001b[1mECL not specified; using IERS2010.\u001b[0m\n",
      "\u001b[32m2025-08-22 11:39:23.017\u001b[0m | \u001b[34m\u001b[1mDEBUG   \u001b[0m | \u001b[36mpint.models.astrometry\u001b[0m:\u001b[36mssb_to_psb_xyz_ECL\u001b[0m:\u001b[36m983\u001b[0m - \u001b[34m\u001b[1mECL not specified; using IERS2010.\u001b[0m\n",
      "\u001b[32m2025-08-22 11:39:23.038\u001b[0m | \u001b[34m\u001b[1mDEBUG   \u001b[0m | \u001b[36mpint.models.astrometry\u001b[0m:\u001b[36mssb_to_psb_xyz_ECL\u001b[0m:\u001b[36m983\u001b[0m - \u001b[34m\u001b[1mECL not specified; using IERS2010.\u001b[0m\n",
      "\u001b[32m2025-08-22 11:39:23.055\u001b[0m | \u001b[34m\u001b[1mDEBUG   \u001b[0m | \u001b[36mpint.models.astrometry\u001b[0m:\u001b[36mssb_to_psb_xyz_ECL\u001b[0m:\u001b[36m983\u001b[0m - \u001b[34m\u001b[1mECL not specified; using IERS2010.\u001b[0m\n",
      "\u001b[32m2025-08-22 11:39:23.076\u001b[0m | \u001b[34m\u001b[1mDEBUG   \u001b[0m | \u001b[36mpint.models.astrometry\u001b[0m:\u001b[36mssb_to_psb_xyz_ECL\u001b[0m:\u001b[36m983\u001b[0m - \u001b[34m\u001b[1mECL not specified; using IERS2010.\u001b[0m\n",
      "\u001b[32m2025-08-22 11:39:23.093\u001b[0m | \u001b[34m\u001b[1mDEBUG   \u001b[0m | \u001b[36mpint.models.astrometry\u001b[0m:\u001b[36mssb_to_psb_xyz_ECL\u001b[0m:\u001b[36m983\u001b[0m - \u001b[34m\u001b[1mECL not specified; using IERS2010.\u001b[0m\n",
      "\u001b[32m2025-08-22 11:39:23.113\u001b[0m | \u001b[34m\u001b[1mDEBUG   \u001b[0m | \u001b[36mpint.models.astrometry\u001b[0m:\u001b[36mssb_to_psb_xyz_ECL\u001b[0m:\u001b[36m983\u001b[0m - \u001b[34m\u001b[1mECL not specified; using IERS2010.\u001b[0m\n",
      "\u001b[32m2025-08-22 11:39:23.129\u001b[0m | \u001b[34m\u001b[1mDEBUG   \u001b[0m | \u001b[36mpint.models.astrometry\u001b[0m:\u001b[36mssb_to_psb_xyz_ECL\u001b[0m:\u001b[36m983\u001b[0m - \u001b[34m\u001b[1mECL not specified; using IERS2010.\u001b[0m\n",
      "\u001b[32m2025-08-22 11:39:23.149\u001b[0m | \u001b[34m\u001b[1mDEBUG   \u001b[0m | \u001b[36mpint.models.astrometry\u001b[0m:\u001b[36mssb_to_psb_xyz_ECL\u001b[0m:\u001b[36m983\u001b[0m - \u001b[34m\u001b[1mECL not specified; using IERS2010.\u001b[0m\n",
      "\u001b[32m2025-08-22 11:39:23.166\u001b[0m | \u001b[34m\u001b[1mDEBUG   \u001b[0m | \u001b[36mpint.models.astrometry\u001b[0m:\u001b[36mssb_to_psb_xyz_ECL\u001b[0m:\u001b[36m983\u001b[0m - \u001b[34m\u001b[1mECL not specified; using IERS2010.\u001b[0m\n",
      "\u001b[32m2025-08-22 11:39:23.186\u001b[0m | \u001b[34m\u001b[1mDEBUG   \u001b[0m | \u001b[36mpint.models.astrometry\u001b[0m:\u001b[36mssb_to_psb_xyz_ECL\u001b[0m:\u001b[36m983\u001b[0m - \u001b[34m\u001b[1mECL not specified; using IERS2010.\u001b[0m\n",
      "\u001b[32m2025-08-22 11:39:23.204\u001b[0m | \u001b[34m\u001b[1mDEBUG   \u001b[0m | \u001b[36mpint.models.astrometry\u001b[0m:\u001b[36mssb_to_psb_xyz_ECL\u001b[0m:\u001b[36m983\u001b[0m - \u001b[34m\u001b[1mECL not specified; using IERS2010.\u001b[0m\n",
      "\u001b[32m2025-08-22 11:39:23.226\u001b[0m | \u001b[34m\u001b[1mDEBUG   \u001b[0m | \u001b[36mpint.models.astrometry\u001b[0m:\u001b[36mssb_to_psb_xyz_ECL\u001b[0m:\u001b[36m983\u001b[0m - \u001b[34m\u001b[1mECL not specified; using IERS2010.\u001b[0m\n",
      "\u001b[32m2025-08-22 11:39:23.242\u001b[0m | \u001b[34m\u001b[1mDEBUG   \u001b[0m | \u001b[36mpint.models.astrometry\u001b[0m:\u001b[36mssb_to_psb_xyz_ECL\u001b[0m:\u001b[36m983\u001b[0m - \u001b[34m\u001b[1mECL not specified; using IERS2010.\u001b[0m\n",
      "\u001b[32m2025-08-22 11:39:23.263\u001b[0m | \u001b[34m\u001b[1mDEBUG   \u001b[0m | \u001b[36mpint.models.astrometry\u001b[0m:\u001b[36mssb_to_psb_xyz_ECL\u001b[0m:\u001b[36m983\u001b[0m - \u001b[34m\u001b[1mECL not specified; using IERS2010.\u001b[0m\n",
      "\u001b[32m2025-08-22 11:39:23.279\u001b[0m | \u001b[34m\u001b[1mDEBUG   \u001b[0m | \u001b[36mpint.models.astrometry\u001b[0m:\u001b[36mssb_to_psb_xyz_ECL\u001b[0m:\u001b[36m983\u001b[0m - \u001b[34m\u001b[1mECL not specified; using IERS2010.\u001b[0m\n",
      "\u001b[32m2025-08-22 11:39:23.300\u001b[0m | \u001b[34m\u001b[1mDEBUG   \u001b[0m | \u001b[36mpint.models.astrometry\u001b[0m:\u001b[36mssb_to_psb_xyz_ECL\u001b[0m:\u001b[36m983\u001b[0m - \u001b[34m\u001b[1mECL not specified; using IERS2010.\u001b[0m\n",
      "\u001b[32m2025-08-22 11:39:23.316\u001b[0m | \u001b[34m\u001b[1mDEBUG   \u001b[0m | \u001b[36mpint.models.astrometry\u001b[0m:\u001b[36mssb_to_psb_xyz_ECL\u001b[0m:\u001b[36m983\u001b[0m - \u001b[34m\u001b[1mECL not specified; using IERS2010.\u001b[0m\n",
      "\u001b[32m2025-08-22 11:39:23.336\u001b[0m | \u001b[34m\u001b[1mDEBUG   \u001b[0m | \u001b[36mpint.models.astrometry\u001b[0m:\u001b[36mssb_to_psb_xyz_ECL\u001b[0m:\u001b[36m983\u001b[0m - \u001b[34m\u001b[1mECL not specified; using IERS2010.\u001b[0m\n",
      "\u001b[32m2025-08-22 11:39:23.353\u001b[0m | \u001b[34m\u001b[1mDEBUG   \u001b[0m | \u001b[36mpint.models.astrometry\u001b[0m:\u001b[36mssb_to_psb_xyz_ECL\u001b[0m:\u001b[36m983\u001b[0m - \u001b[34m\u001b[1mECL not specified; using IERS2010.\u001b[0m\n",
      "\u001b[32m2025-08-22 11:39:23.375\u001b[0m | \u001b[34m\u001b[1mDEBUG   \u001b[0m | \u001b[36mpint.models.astrometry\u001b[0m:\u001b[36mssb_to_psb_xyz_ECL\u001b[0m:\u001b[36m983\u001b[0m - \u001b[34m\u001b[1mECL not specified; using IERS2010.\u001b[0m\n",
      "\u001b[32m2025-08-22 11:39:23.392\u001b[0m | \u001b[34m\u001b[1mDEBUG   \u001b[0m | \u001b[36mpint.models.astrometry\u001b[0m:\u001b[36mssb_to_psb_xyz_ECL\u001b[0m:\u001b[36m983\u001b[0m - \u001b[34m\u001b[1mECL not specified; using IERS2010.\u001b[0m\n",
      "\u001b[32m2025-08-22 11:39:23.412\u001b[0m | \u001b[34m\u001b[1mDEBUG   \u001b[0m | \u001b[36mpint.models.astrometry\u001b[0m:\u001b[36mssb_to_psb_xyz_ECL\u001b[0m:\u001b[36m983\u001b[0m - \u001b[34m\u001b[1mECL not specified; using IERS2010.\u001b[0m\n",
      "\u001b[32m2025-08-22 11:39:23.429\u001b[0m | \u001b[34m\u001b[1mDEBUG   \u001b[0m | \u001b[36mpint.models.astrometry\u001b[0m:\u001b[36mssb_to_psb_xyz_ECL\u001b[0m:\u001b[36m983\u001b[0m - \u001b[34m\u001b[1mECL not specified; using IERS2010.\u001b[0m\n",
      "\u001b[32m2025-08-22 11:39:23.449\u001b[0m | \u001b[34m\u001b[1mDEBUG   \u001b[0m | \u001b[36mpint.models.astrometry\u001b[0m:\u001b[36mssb_to_psb_xyz_ECL\u001b[0m:\u001b[36m983\u001b[0m - \u001b[34m\u001b[1mECL not specified; using IERS2010.\u001b[0m\n",
      "\u001b[32m2025-08-22 11:39:23.465\u001b[0m | \u001b[34m\u001b[1mDEBUG   \u001b[0m | \u001b[36mpint.models.astrometry\u001b[0m:\u001b[36mssb_to_psb_xyz_ECL\u001b[0m:\u001b[36m983\u001b[0m - \u001b[34m\u001b[1mECL not specified; using IERS2010.\u001b[0m\n",
      "\u001b[32m2025-08-22 11:39:23.486\u001b[0m | \u001b[34m\u001b[1mDEBUG   \u001b[0m | \u001b[36mpint.models.astrometry\u001b[0m:\u001b[36mssb_to_psb_xyz_ECL\u001b[0m:\u001b[36m983\u001b[0m - \u001b[34m\u001b[1mECL not specified; using IERS2010.\u001b[0m\n",
      "\u001b[32m2025-08-22 11:39:23.503\u001b[0m | \u001b[34m\u001b[1mDEBUG   \u001b[0m | \u001b[36mpint.models.astrometry\u001b[0m:\u001b[36mssb_to_psb_xyz_ECL\u001b[0m:\u001b[36m983\u001b[0m - \u001b[34m\u001b[1mECL not specified; using IERS2010.\u001b[0m\n",
      "\u001b[32m2025-08-22 11:39:23.525\u001b[0m | \u001b[34m\u001b[1mDEBUG   \u001b[0m | \u001b[36mpint.models.astrometry\u001b[0m:\u001b[36mssb_to_psb_xyz_ECL\u001b[0m:\u001b[36m983\u001b[0m - \u001b[34m\u001b[1mECL not specified; using IERS2010.\u001b[0m\n",
      "\u001b[32m2025-08-22 11:39:23.541\u001b[0m | \u001b[34m\u001b[1mDEBUG   \u001b[0m | \u001b[36mpint.models.astrometry\u001b[0m:\u001b[36mssb_to_psb_xyz_ECL\u001b[0m:\u001b[36m983\u001b[0m - \u001b[34m\u001b[1mECL not specified; using IERS2010.\u001b[0m\n",
      "\u001b[32m2025-08-22 11:39:23.562\u001b[0m | \u001b[34m\u001b[1mDEBUG   \u001b[0m | \u001b[36mpint.models.astrometry\u001b[0m:\u001b[36mssb_to_psb_xyz_ECL\u001b[0m:\u001b[36m983\u001b[0m - \u001b[34m\u001b[1mECL not specified; using IERS2010.\u001b[0m\n",
      "\u001b[32m2025-08-22 11:39:23.578\u001b[0m | \u001b[34m\u001b[1mDEBUG   \u001b[0m | \u001b[36mpint.models.astrometry\u001b[0m:\u001b[36mssb_to_psb_xyz_ECL\u001b[0m:\u001b[36m983\u001b[0m - \u001b[34m\u001b[1mECL not specified; using IERS2010.\u001b[0m\n",
      "\u001b[32m2025-08-22 11:39:23.599\u001b[0m | \u001b[34m\u001b[1mDEBUG   \u001b[0m | \u001b[36mpint.models.astrometry\u001b[0m:\u001b[36mssb_to_psb_xyz_ECL\u001b[0m:\u001b[36m983\u001b[0m - \u001b[34m\u001b[1mECL not specified; using IERS2010.\u001b[0m\n",
      "\u001b[32m2025-08-22 11:39:23.615\u001b[0m | \u001b[34m\u001b[1mDEBUG   \u001b[0m | \u001b[36mpint.models.astrometry\u001b[0m:\u001b[36mssb_to_psb_xyz_ECL\u001b[0m:\u001b[36m983\u001b[0m - \u001b[34m\u001b[1mECL not specified; using IERS2010.\u001b[0m\n",
      "\u001b[32m2025-08-22 11:39:23.635\u001b[0m | \u001b[34m\u001b[1mDEBUG   \u001b[0m | \u001b[36mpint.models.astrometry\u001b[0m:\u001b[36mssb_to_psb_xyz_ECL\u001b[0m:\u001b[36m983\u001b[0m - \u001b[34m\u001b[1mECL not specified; using IERS2010.\u001b[0m\n",
      "\u001b[32m2025-08-22 11:39:23.652\u001b[0m | \u001b[34m\u001b[1mDEBUG   \u001b[0m | \u001b[36mpint.models.astrometry\u001b[0m:\u001b[36mssb_to_psb_xyz_ECL\u001b[0m:\u001b[36m983\u001b[0m - \u001b[34m\u001b[1mECL not specified; using IERS2010.\u001b[0m\n",
      "\u001b[32m2025-08-22 11:39:23.673\u001b[0m | \u001b[34m\u001b[1mDEBUG   \u001b[0m | \u001b[36mpint.models.astrometry\u001b[0m:\u001b[36mssb_to_psb_xyz_ECL\u001b[0m:\u001b[36m983\u001b[0m - \u001b[34m\u001b[1mECL not specified; using IERS2010.\u001b[0m\n",
      "\u001b[32m2025-08-22 11:39:23.690\u001b[0m | \u001b[34m\u001b[1mDEBUG   \u001b[0m | \u001b[36mpint.models.astrometry\u001b[0m:\u001b[36mssb_to_psb_xyz_ECL\u001b[0m:\u001b[36m983\u001b[0m - \u001b[34m\u001b[1mECL not specified; using IERS2010.\u001b[0m\n",
      "\u001b[32m2025-08-22 11:39:23.710\u001b[0m | \u001b[34m\u001b[1mDEBUG   \u001b[0m | \u001b[36mpint.models.astrometry\u001b[0m:\u001b[36mssb_to_psb_xyz_ECL\u001b[0m:\u001b[36m983\u001b[0m - \u001b[34m\u001b[1mECL not specified; using IERS2010.\u001b[0m\n",
      "\u001b[32m2025-08-22 11:39:23.727\u001b[0m | \u001b[34m\u001b[1mDEBUG   \u001b[0m | \u001b[36mpint.models.astrometry\u001b[0m:\u001b[36mssb_to_psb_xyz_ECL\u001b[0m:\u001b[36m983\u001b[0m - \u001b[34m\u001b[1mECL not specified; using IERS2010.\u001b[0m\n",
      "\u001b[32m2025-08-22 11:39:23.747\u001b[0m | \u001b[34m\u001b[1mDEBUG   \u001b[0m | \u001b[36mpint.models.astrometry\u001b[0m:\u001b[36mssb_to_psb_xyz_ECL\u001b[0m:\u001b[36m983\u001b[0m - \u001b[34m\u001b[1mECL not specified; using IERS2010.\u001b[0m\n",
      "\u001b[32m2025-08-22 11:39:23.764\u001b[0m | \u001b[34m\u001b[1mDEBUG   \u001b[0m | \u001b[36mpint.models.astrometry\u001b[0m:\u001b[36mssb_to_psb_xyz_ECL\u001b[0m:\u001b[36m983\u001b[0m - \u001b[34m\u001b[1mECL not specified; using IERS2010.\u001b[0m\n",
      "\u001b[32m2025-08-22 11:39:23.784\u001b[0m | \u001b[34m\u001b[1mDEBUG   \u001b[0m | \u001b[36mpint.models.astrometry\u001b[0m:\u001b[36mssb_to_psb_xyz_ECL\u001b[0m:\u001b[36m983\u001b[0m - \u001b[34m\u001b[1mECL not specified; using IERS2010.\u001b[0m\n",
      "\u001b[32m2025-08-22 11:39:23.800\u001b[0m | \u001b[34m\u001b[1mDEBUG   \u001b[0m | \u001b[36mpint.models.astrometry\u001b[0m:\u001b[36mssb_to_psb_xyz_ECL\u001b[0m:\u001b[36m983\u001b[0m - \u001b[34m\u001b[1mECL not specified; using IERS2010.\u001b[0m\n",
      "\u001b[32m2025-08-22 11:39:23.821\u001b[0m | \u001b[34m\u001b[1mDEBUG   \u001b[0m | \u001b[36mpint.models.astrometry\u001b[0m:\u001b[36mssb_to_psb_xyz_ECL\u001b[0m:\u001b[36m983\u001b[0m - \u001b[34m\u001b[1mECL not specified; using IERS2010.\u001b[0m\n",
      "\u001b[32m2025-08-22 11:39:23.839\u001b[0m | \u001b[34m\u001b[1mDEBUG   \u001b[0m | \u001b[36mpint.models.astrometry\u001b[0m:\u001b[36mssb_to_psb_xyz_ECL\u001b[0m:\u001b[36m983\u001b[0m - \u001b[34m\u001b[1mECL not specified; using IERS2010.\u001b[0m\n",
      "\u001b[32m2025-08-22 11:39:23.860\u001b[0m | \u001b[34m\u001b[1mDEBUG   \u001b[0m | \u001b[36mpint.models.astrometry\u001b[0m:\u001b[36mssb_to_psb_xyz_ECL\u001b[0m:\u001b[36m983\u001b[0m - \u001b[34m\u001b[1mECL not specified; using IERS2010.\u001b[0m\n",
      "\u001b[32m2025-08-22 11:39:23.876\u001b[0m | \u001b[34m\u001b[1mDEBUG   \u001b[0m | \u001b[36mpint.models.astrometry\u001b[0m:\u001b[36mssb_to_psb_xyz_ECL\u001b[0m:\u001b[36m983\u001b[0m - \u001b[34m\u001b[1mECL not specified; using IERS2010.\u001b[0m\n",
      "\u001b[32m2025-08-22 11:39:23.897\u001b[0m | \u001b[34m\u001b[1mDEBUG   \u001b[0m | \u001b[36mpint.models.astrometry\u001b[0m:\u001b[36mssb_to_psb_xyz_ECL\u001b[0m:\u001b[36m983\u001b[0m - \u001b[34m\u001b[1mECL not specified; using IERS2010.\u001b[0m\n",
      "\u001b[32m2025-08-22 11:39:23.913\u001b[0m | \u001b[34m\u001b[1mDEBUG   \u001b[0m | \u001b[36mpint.models.astrometry\u001b[0m:\u001b[36mssb_to_psb_xyz_ECL\u001b[0m:\u001b[36m983\u001b[0m - \u001b[34m\u001b[1mECL not specified; using IERS2010.\u001b[0m\n",
      "\u001b[32m2025-08-22 11:39:23.934\u001b[0m | \u001b[34m\u001b[1mDEBUG   \u001b[0m | \u001b[36mpint.models.astrometry\u001b[0m:\u001b[36mssb_to_psb_xyz_ECL\u001b[0m:\u001b[36m983\u001b[0m - \u001b[34m\u001b[1mECL not specified; using IERS2010.\u001b[0m\n",
      "\u001b[32m2025-08-22 11:39:23.950\u001b[0m | \u001b[34m\u001b[1mDEBUG   \u001b[0m | \u001b[36mpint.models.astrometry\u001b[0m:\u001b[36mssb_to_psb_xyz_ECL\u001b[0m:\u001b[36m983\u001b[0m - \u001b[34m\u001b[1mECL not specified; using IERS2010.\u001b[0m\n",
      "\u001b[32m2025-08-22 11:39:23.971\u001b[0m | \u001b[34m\u001b[1mDEBUG   \u001b[0m | \u001b[36mpint.models.astrometry\u001b[0m:\u001b[36mssb_to_psb_xyz_ECL\u001b[0m:\u001b[36m983\u001b[0m - \u001b[34m\u001b[1mECL not specified; using IERS2010.\u001b[0m\n",
      "\u001b[32m2025-08-22 11:39:23.989\u001b[0m | \u001b[34m\u001b[1mDEBUG   \u001b[0m | \u001b[36mpint.models.astrometry\u001b[0m:\u001b[36mssb_to_psb_xyz_ECL\u001b[0m:\u001b[36m983\u001b[0m - \u001b[34m\u001b[1mECL not specified; using IERS2010.\u001b[0m\n",
      "\u001b[32m2025-08-22 11:39:24.010\u001b[0m | \u001b[34m\u001b[1mDEBUG   \u001b[0m | \u001b[36mpint.models.astrometry\u001b[0m:\u001b[36mssb_to_psb_xyz_ECL\u001b[0m:\u001b[36m983\u001b[0m - \u001b[34m\u001b[1mECL not specified; using IERS2010.\u001b[0m\n",
      "\u001b[32m2025-08-22 11:39:24.027\u001b[0m | \u001b[34m\u001b[1mDEBUG   \u001b[0m | \u001b[36mpint.models.astrometry\u001b[0m:\u001b[36mssb_to_psb_xyz_ECL\u001b[0m:\u001b[36m983\u001b[0m - \u001b[34m\u001b[1mECL not specified; using IERS2010.\u001b[0m\n",
      "\u001b[32m2025-08-22 11:39:24.047\u001b[0m | \u001b[34m\u001b[1mDEBUG   \u001b[0m | \u001b[36mpint.models.astrometry\u001b[0m:\u001b[36mssb_to_psb_xyz_ECL\u001b[0m:\u001b[36m983\u001b[0m - \u001b[34m\u001b[1mECL not specified; using IERS2010.\u001b[0m\n",
      "\u001b[32m2025-08-22 11:39:24.064\u001b[0m | \u001b[34m\u001b[1mDEBUG   \u001b[0m | \u001b[36mpint.models.astrometry\u001b[0m:\u001b[36mssb_to_psb_xyz_ECL\u001b[0m:\u001b[36m983\u001b[0m - \u001b[34m\u001b[1mECL not specified; using IERS2010.\u001b[0m\n",
      "\u001b[32m2025-08-22 11:39:24.084\u001b[0m | \u001b[34m\u001b[1mDEBUG   \u001b[0m | \u001b[36mpint.models.astrometry\u001b[0m:\u001b[36mssb_to_psb_xyz_ECL\u001b[0m:\u001b[36m983\u001b[0m - \u001b[34m\u001b[1mECL not specified; using IERS2010.\u001b[0m\n",
      "\u001b[32m2025-08-22 11:39:24.101\u001b[0m | \u001b[34m\u001b[1mDEBUG   \u001b[0m | \u001b[36mpint.models.astrometry\u001b[0m:\u001b[36mssb_to_psb_xyz_ECL\u001b[0m:\u001b[36m983\u001b[0m - \u001b[34m\u001b[1mECL not specified; using IERS2010.\u001b[0m\n",
      "\u001b[32m2025-08-22 11:39:24.121\u001b[0m | \u001b[34m\u001b[1mDEBUG   \u001b[0m | \u001b[36mpint.models.astrometry\u001b[0m:\u001b[36mssb_to_psb_xyz_ECL\u001b[0m:\u001b[36m983\u001b[0m - \u001b[34m\u001b[1mECL not specified; using IERS2010.\u001b[0m\n",
      "\u001b[32m2025-08-22 11:39:24.139\u001b[0m | \u001b[34m\u001b[1mDEBUG   \u001b[0m | \u001b[36mpint.models.astrometry\u001b[0m:\u001b[36mssb_to_psb_xyz_ECL\u001b[0m:\u001b[36m983\u001b[0m - \u001b[34m\u001b[1mECL not specified; using IERS2010.\u001b[0m\n",
      "\u001b[32m2025-08-22 11:39:24.160\u001b[0m | \u001b[34m\u001b[1mDEBUG   \u001b[0m | \u001b[36mpint.models.astrometry\u001b[0m:\u001b[36mssb_to_psb_xyz_ECL\u001b[0m:\u001b[36m983\u001b[0m - \u001b[34m\u001b[1mECL not specified; using IERS2010.\u001b[0m\n",
      "\u001b[32m2025-08-22 11:39:24.176\u001b[0m | \u001b[34m\u001b[1mDEBUG   \u001b[0m | \u001b[36mpint.models.astrometry\u001b[0m:\u001b[36mssb_to_psb_xyz_ECL\u001b[0m:\u001b[36m983\u001b[0m - \u001b[34m\u001b[1mECL not specified; using IERS2010.\u001b[0m\n",
      "\u001b[32m2025-08-22 11:39:24.197\u001b[0m | \u001b[34m\u001b[1mDEBUG   \u001b[0m | \u001b[36mpint.models.astrometry\u001b[0m:\u001b[36mssb_to_psb_xyz_ECL\u001b[0m:\u001b[36m983\u001b[0m - \u001b[34m\u001b[1mECL not specified; using IERS2010.\u001b[0m\n",
      "\u001b[32m2025-08-22 11:39:24.213\u001b[0m | \u001b[34m\u001b[1mDEBUG   \u001b[0m | \u001b[36mpint.models.astrometry\u001b[0m:\u001b[36mssb_to_psb_xyz_ECL\u001b[0m:\u001b[36m983\u001b[0m - \u001b[34m\u001b[1mECL not specified; using IERS2010.\u001b[0m\n",
      "\u001b[32m2025-08-22 11:39:24.234\u001b[0m | \u001b[34m\u001b[1mDEBUG   \u001b[0m | \u001b[36mpint.models.astrometry\u001b[0m:\u001b[36mssb_to_psb_xyz_ECL\u001b[0m:\u001b[36m983\u001b[0m - \u001b[34m\u001b[1mECL not specified; using IERS2010.\u001b[0m\n",
      "\u001b[32m2025-08-22 11:39:24.250\u001b[0m | \u001b[34m\u001b[1mDEBUG   \u001b[0m | \u001b[36mpint.models.astrometry\u001b[0m:\u001b[36mssb_to_psb_xyz_ECL\u001b[0m:\u001b[36m983\u001b[0m - \u001b[34m\u001b[1mECL not specified; using IERS2010.\u001b[0m\n",
      "\u001b[32m2025-08-22 11:39:24.271\u001b[0m | \u001b[34m\u001b[1mDEBUG   \u001b[0m | \u001b[36mpint.models.astrometry\u001b[0m:\u001b[36mssb_to_psb_xyz_ECL\u001b[0m:\u001b[36m983\u001b[0m - \u001b[34m\u001b[1mECL not specified; using IERS2010.\u001b[0m\n",
      "\u001b[32m2025-08-22 11:39:24.287\u001b[0m | \u001b[34m\u001b[1mDEBUG   \u001b[0m | \u001b[36mpint.models.astrometry\u001b[0m:\u001b[36mssb_to_psb_xyz_ECL\u001b[0m:\u001b[36m983\u001b[0m - \u001b[34m\u001b[1mECL not specified; using IERS2010.\u001b[0m\n",
      "\u001b[32m2025-08-22 11:39:24.309\u001b[0m | \u001b[34m\u001b[1mDEBUG   \u001b[0m | \u001b[36mpint.models.astrometry\u001b[0m:\u001b[36mssb_to_psb_xyz_ECL\u001b[0m:\u001b[36m983\u001b[0m - \u001b[34m\u001b[1mECL not specified; using IERS2010.\u001b[0m\n",
      "\u001b[32m2025-08-22 11:39:24.326\u001b[0m | \u001b[34m\u001b[1mDEBUG   \u001b[0m | \u001b[36mpint.models.astrometry\u001b[0m:\u001b[36mssb_to_psb_xyz_ECL\u001b[0m:\u001b[36m983\u001b[0m - \u001b[34m\u001b[1mECL not specified; using IERS2010.\u001b[0m\n",
      "\u001b[32m2025-08-22 11:39:24.346\u001b[0m | \u001b[34m\u001b[1mDEBUG   \u001b[0m | \u001b[36mpint.models.astrometry\u001b[0m:\u001b[36mssb_to_psb_xyz_ECL\u001b[0m:\u001b[36m983\u001b[0m - \u001b[34m\u001b[1mECL not specified; using IERS2010.\u001b[0m\n",
      "\u001b[32m2025-08-22 11:39:24.363\u001b[0m | \u001b[34m\u001b[1mDEBUG   \u001b[0m | \u001b[36mpint.models.astrometry\u001b[0m:\u001b[36mssb_to_psb_xyz_ECL\u001b[0m:\u001b[36m983\u001b[0m - \u001b[34m\u001b[1mECL not specified; using IERS2010.\u001b[0m\n",
      "\u001b[32m2025-08-22 11:39:24.384\u001b[0m | \u001b[34m\u001b[1mDEBUG   \u001b[0m | \u001b[36mpint.models.astrometry\u001b[0m:\u001b[36mssb_to_psb_xyz_ECL\u001b[0m:\u001b[36m983\u001b[0m - \u001b[34m\u001b[1mECL not specified; using IERS2010.\u001b[0m\n",
      "\u001b[32m2025-08-22 11:39:24.400\u001b[0m | \u001b[34m\u001b[1mDEBUG   \u001b[0m | \u001b[36mpint.models.astrometry\u001b[0m:\u001b[36mssb_to_psb_xyz_ECL\u001b[0m:\u001b[36m983\u001b[0m - \u001b[34m\u001b[1mECL not specified; using IERS2010.\u001b[0m\n",
      "\u001b[32m2025-08-22 11:39:24.420\u001b[0m | \u001b[34m\u001b[1mDEBUG   \u001b[0m | \u001b[36mpint.models.astrometry\u001b[0m:\u001b[36mssb_to_psb_xyz_ECL\u001b[0m:\u001b[36m983\u001b[0m - \u001b[34m\u001b[1mECL not specified; using IERS2010.\u001b[0m\n",
      "\u001b[32m2025-08-22 11:39:24.437\u001b[0m | \u001b[34m\u001b[1mDEBUG   \u001b[0m | \u001b[36mpint.models.astrometry\u001b[0m:\u001b[36mssb_to_psb_xyz_ECL\u001b[0m:\u001b[36m983\u001b[0m - \u001b[34m\u001b[1mECL not specified; using IERS2010.\u001b[0m\n",
      "\u001b[32m2025-08-22 11:39:24.457\u001b[0m | \u001b[34m\u001b[1mDEBUG   \u001b[0m | \u001b[36mpint.models.astrometry\u001b[0m:\u001b[36mssb_to_psb_xyz_ECL\u001b[0m:\u001b[36m983\u001b[0m - \u001b[34m\u001b[1mECL not specified; using IERS2010.\u001b[0m\n",
      "\u001b[32m2025-08-22 11:39:24.474\u001b[0m | \u001b[34m\u001b[1mDEBUG   \u001b[0m | \u001b[36mpint.models.astrometry\u001b[0m:\u001b[36mssb_to_psb_xyz_ECL\u001b[0m:\u001b[36m983\u001b[0m - \u001b[34m\u001b[1mECL not specified; using IERS2010.\u001b[0m\n",
      "\u001b[32m2025-08-22 11:39:24.494\u001b[0m | \u001b[34m\u001b[1mDEBUG   \u001b[0m | \u001b[36mpint.models.astrometry\u001b[0m:\u001b[36mssb_to_psb_xyz_ECL\u001b[0m:\u001b[36m983\u001b[0m - \u001b[34m\u001b[1mECL not specified; using IERS2010.\u001b[0m\n",
      "\u001b[32m2025-08-22 11:39:24.510\u001b[0m | \u001b[34m\u001b[1mDEBUG   \u001b[0m | \u001b[36mpint.models.astrometry\u001b[0m:\u001b[36mssb_to_psb_xyz_ECL\u001b[0m:\u001b[36m983\u001b[0m - \u001b[34m\u001b[1mECL not specified; using IERS2010.\u001b[0m\n",
      "\u001b[32m2025-08-22 11:39:24.531\u001b[0m | \u001b[34m\u001b[1mDEBUG   \u001b[0m | \u001b[36mpint.models.astrometry\u001b[0m:\u001b[36mssb_to_psb_xyz_ECL\u001b[0m:\u001b[36m983\u001b[0m - \u001b[34m\u001b[1mECL not specified; using IERS2010.\u001b[0m\n",
      "\u001b[32m2025-08-22 11:39:24.548\u001b[0m | \u001b[34m\u001b[1mDEBUG   \u001b[0m | \u001b[36mpint.models.astrometry\u001b[0m:\u001b[36mssb_to_psb_xyz_ECL\u001b[0m:\u001b[36m983\u001b[0m - \u001b[34m\u001b[1mECL not specified; using IERS2010.\u001b[0m\n",
      "\u001b[32m2025-08-22 11:39:24.568\u001b[0m | \u001b[34m\u001b[1mDEBUG   \u001b[0m | \u001b[36mpint.models.astrometry\u001b[0m:\u001b[36mssb_to_psb_xyz_ECL\u001b[0m:\u001b[36m983\u001b[0m - \u001b[34m\u001b[1mECL not specified; using IERS2010.\u001b[0m\n",
      "\u001b[32m2025-08-22 11:39:24.585\u001b[0m | \u001b[34m\u001b[1mDEBUG   \u001b[0m | \u001b[36mpint.models.astrometry\u001b[0m:\u001b[36mssb_to_psb_xyz_ECL\u001b[0m:\u001b[36m983\u001b[0m - \u001b[34m\u001b[1mECL not specified; using IERS2010.\u001b[0m\n",
      "\u001b[32m2025-08-22 11:39:24.605\u001b[0m | \u001b[34m\u001b[1mDEBUG   \u001b[0m | \u001b[36mpint.models.astrometry\u001b[0m:\u001b[36mssb_to_psb_xyz_ECL\u001b[0m:\u001b[36m983\u001b[0m - \u001b[34m\u001b[1mECL not specified; using IERS2010.\u001b[0m\n",
      "\u001b[32m2025-08-22 11:39:24.622\u001b[0m | \u001b[34m\u001b[1mDEBUG   \u001b[0m | \u001b[36mpint.models.astrometry\u001b[0m:\u001b[36mssb_to_psb_xyz_ECL\u001b[0m:\u001b[36m983\u001b[0m - \u001b[34m\u001b[1mECL not specified; using IERS2010.\u001b[0m\n",
      "\u001b[32m2025-08-22 11:39:24.642\u001b[0m | \u001b[34m\u001b[1mDEBUG   \u001b[0m | \u001b[36mpint.models.astrometry\u001b[0m:\u001b[36mssb_to_psb_xyz_ECL\u001b[0m:\u001b[36m983\u001b[0m - \u001b[34m\u001b[1mECL not specified; using IERS2010.\u001b[0m\n",
      "\u001b[32m2025-08-22 11:39:24.659\u001b[0m | \u001b[34m\u001b[1mDEBUG   \u001b[0m | \u001b[36mpint.models.astrometry\u001b[0m:\u001b[36mssb_to_psb_xyz_ECL\u001b[0m:\u001b[36m983\u001b[0m - \u001b[34m\u001b[1mECL not specified; using IERS2010.\u001b[0m\n",
      "\u001b[32m2025-08-22 11:39:24.679\u001b[0m | \u001b[34m\u001b[1mDEBUG   \u001b[0m | \u001b[36mpint.models.astrometry\u001b[0m:\u001b[36mssb_to_psb_xyz_ECL\u001b[0m:\u001b[36m983\u001b[0m - \u001b[34m\u001b[1mECL not specified; using IERS2010.\u001b[0m\n",
      "\u001b[32m2025-08-22 11:39:24.695\u001b[0m | \u001b[34m\u001b[1mDEBUG   \u001b[0m | \u001b[36mpint.models.astrometry\u001b[0m:\u001b[36mssb_to_psb_xyz_ECL\u001b[0m:\u001b[36m983\u001b[0m - \u001b[34m\u001b[1mECL not specified; using IERS2010.\u001b[0m\n",
      "\u001b[32m2025-08-22 11:39:24.716\u001b[0m | \u001b[34m\u001b[1mDEBUG   \u001b[0m | \u001b[36mpint.models.astrometry\u001b[0m:\u001b[36mssb_to_psb_xyz_ECL\u001b[0m:\u001b[36m983\u001b[0m - \u001b[34m\u001b[1mECL not specified; using IERS2010.\u001b[0m\n",
      "\u001b[32m2025-08-22 11:39:24.733\u001b[0m | \u001b[34m\u001b[1mDEBUG   \u001b[0m | \u001b[36mpint.models.astrometry\u001b[0m:\u001b[36mssb_to_psb_xyz_ECL\u001b[0m:\u001b[36m983\u001b[0m - \u001b[34m\u001b[1mECL not specified; using IERS2010.\u001b[0m\n",
      "\u001b[32m2025-08-22 11:39:24.753\u001b[0m | \u001b[34m\u001b[1mDEBUG   \u001b[0m | \u001b[36mpint.models.astrometry\u001b[0m:\u001b[36mssb_to_psb_xyz_ECL\u001b[0m:\u001b[36m983\u001b[0m - \u001b[34m\u001b[1mECL not specified; using IERS2010.\u001b[0m\n",
      "\u001b[32m2025-08-22 11:39:24.770\u001b[0m | \u001b[34m\u001b[1mDEBUG   \u001b[0m | \u001b[36mpint.models.astrometry\u001b[0m:\u001b[36mssb_to_psb_xyz_ECL\u001b[0m:\u001b[36m983\u001b[0m - \u001b[34m\u001b[1mECL not specified; using IERS2010.\u001b[0m\n",
      "\u001b[32m2025-08-22 11:39:24.790\u001b[0m | \u001b[34m\u001b[1mDEBUG   \u001b[0m | \u001b[36mpint.models.astrometry\u001b[0m:\u001b[36mssb_to_psb_xyz_ECL\u001b[0m:\u001b[36m983\u001b[0m - \u001b[34m\u001b[1mECL not specified; using IERS2010.\u001b[0m\n",
      "\u001b[32m2025-08-22 11:39:24.806\u001b[0m | \u001b[34m\u001b[1mDEBUG   \u001b[0m | \u001b[36mpint.models.astrometry\u001b[0m:\u001b[36mssb_to_psb_xyz_ECL\u001b[0m:\u001b[36m983\u001b[0m - \u001b[34m\u001b[1mECL not specified; using IERS2010.\u001b[0m\n",
      "\u001b[32m2025-08-22 11:39:24.826\u001b[0m | \u001b[34m\u001b[1mDEBUG   \u001b[0m | \u001b[36mpint.models.astrometry\u001b[0m:\u001b[36mssb_to_psb_xyz_ECL\u001b[0m:\u001b[36m983\u001b[0m - \u001b[34m\u001b[1mECL not specified; using IERS2010.\u001b[0m\n",
      "\u001b[32m2025-08-22 11:39:24.843\u001b[0m | \u001b[34m\u001b[1mDEBUG   \u001b[0m | \u001b[36mpint.models.astrometry\u001b[0m:\u001b[36mssb_to_psb_xyz_ECL\u001b[0m:\u001b[36m983\u001b[0m - \u001b[34m\u001b[1mECL not specified; using IERS2010.\u001b[0m\n",
      "\u001b[32m2025-08-22 11:39:24.863\u001b[0m | \u001b[34m\u001b[1mDEBUG   \u001b[0m | \u001b[36mpint.models.astrometry\u001b[0m:\u001b[36mssb_to_psb_xyz_ECL\u001b[0m:\u001b[36m983\u001b[0m - \u001b[34m\u001b[1mECL not specified; using IERS2010.\u001b[0m\n",
      "\u001b[32m2025-08-22 11:39:24.880\u001b[0m | \u001b[34m\u001b[1mDEBUG   \u001b[0m | \u001b[36mpint.models.astrometry\u001b[0m:\u001b[36mssb_to_psb_xyz_ECL\u001b[0m:\u001b[36m983\u001b[0m - \u001b[34m\u001b[1mECL not specified; using IERS2010.\u001b[0m\n",
      "\u001b[32m2025-08-22 11:39:24.900\u001b[0m | \u001b[34m\u001b[1mDEBUG   \u001b[0m | \u001b[36mpint.models.astrometry\u001b[0m:\u001b[36mssb_to_psb_xyz_ECL\u001b[0m:\u001b[36m983\u001b[0m - \u001b[34m\u001b[1mECL not specified; using IERS2010.\u001b[0m\n",
      "\u001b[32m2025-08-22 11:39:24.917\u001b[0m | \u001b[34m\u001b[1mDEBUG   \u001b[0m | \u001b[36mpint.models.astrometry\u001b[0m:\u001b[36mssb_to_psb_xyz_ECL\u001b[0m:\u001b[36m983\u001b[0m - \u001b[34m\u001b[1mECL not specified; using IERS2010.\u001b[0m\n",
      "\u001b[32m2025-08-22 11:39:24.937\u001b[0m | \u001b[34m\u001b[1mDEBUG   \u001b[0m | \u001b[36mpint.models.astrometry\u001b[0m:\u001b[36mssb_to_psb_xyz_ECL\u001b[0m:\u001b[36m983\u001b[0m - \u001b[34m\u001b[1mECL not specified; using IERS2010.\u001b[0m\n",
      "\u001b[32m2025-08-22 11:39:24.953\u001b[0m | \u001b[34m\u001b[1mDEBUG   \u001b[0m | \u001b[36mpint.models.astrometry\u001b[0m:\u001b[36mssb_to_psb_xyz_ECL\u001b[0m:\u001b[36m983\u001b[0m - \u001b[34m\u001b[1mECL not specified; using IERS2010.\u001b[0m\n",
      "\u001b[32m2025-08-22 11:39:24.973\u001b[0m | \u001b[34m\u001b[1mDEBUG   \u001b[0m | \u001b[36mpint.models.astrometry\u001b[0m:\u001b[36mssb_to_psb_xyz_ECL\u001b[0m:\u001b[36m983\u001b[0m - \u001b[34m\u001b[1mECL not specified; using IERS2010.\u001b[0m\n",
      "\u001b[32m2025-08-22 11:39:24.990\u001b[0m | \u001b[34m\u001b[1mDEBUG   \u001b[0m | \u001b[36mpint.models.astrometry\u001b[0m:\u001b[36mssb_to_psb_xyz_ECL\u001b[0m:\u001b[36m983\u001b[0m - \u001b[34m\u001b[1mECL not specified; using IERS2010.\u001b[0m\n",
      "\u001b[32m2025-08-22 11:39:25.014\u001b[0m | \u001b[34m\u001b[1mDEBUG   \u001b[0m | \u001b[36mpint.models.astrometry\u001b[0m:\u001b[36mssb_to_psb_xyz_ECL\u001b[0m:\u001b[36m983\u001b[0m - \u001b[34m\u001b[1mECL not specified; using IERS2010.\u001b[0m\n",
      "\u001b[32m2025-08-22 11:39:25.030\u001b[0m | \u001b[34m\u001b[1mDEBUG   \u001b[0m | \u001b[36mpint.models.astrometry\u001b[0m:\u001b[36mssb_to_psb_xyz_ECL\u001b[0m:\u001b[36m983\u001b[0m - \u001b[34m\u001b[1mECL not specified; using IERS2010.\u001b[0m\n",
      "\u001b[32m2025-08-22 11:39:25.051\u001b[0m | \u001b[34m\u001b[1mDEBUG   \u001b[0m | \u001b[36mpint.models.astrometry\u001b[0m:\u001b[36mssb_to_psb_xyz_ECL\u001b[0m:\u001b[36m983\u001b[0m - \u001b[34m\u001b[1mECL not specified; using IERS2010.\u001b[0m\n",
      "\u001b[32m2025-08-22 11:39:25.067\u001b[0m | \u001b[34m\u001b[1mDEBUG   \u001b[0m | \u001b[36mpint.models.astrometry\u001b[0m:\u001b[36mssb_to_psb_xyz_ECL\u001b[0m:\u001b[36m983\u001b[0m - \u001b[34m\u001b[1mECL not specified; using IERS2010.\u001b[0m\n",
      "\u001b[32m2025-08-22 11:39:27.650\u001b[0m | \u001b[34m\u001b[1mDEBUG   \u001b[0m | \u001b[36mpint.models.astrometry\u001b[0m:\u001b[36mssb_to_psb_xyz_ECL\u001b[0m:\u001b[36m983\u001b[0m - \u001b[34m\u001b[1mECL not specified; using IERS2010.\u001b[0m\n",
      "\u001b[32m2025-08-22 11:39:27.669\u001b[0m | \u001b[34m\u001b[1mDEBUG   \u001b[0m | \u001b[36mpint.models.astrometry\u001b[0m:\u001b[36mssb_to_psb_xyz_ECL\u001b[0m:\u001b[36m983\u001b[0m - \u001b[34m\u001b[1mECL not specified; using IERS2010.\u001b[0m\n",
      "\u001b[32m2025-08-22 11:39:27.689\u001b[0m | \u001b[34m\u001b[1mDEBUG   \u001b[0m | \u001b[36mpint.models.astrometry\u001b[0m:\u001b[36mssb_to_psb_xyz_ECL\u001b[0m:\u001b[36m983\u001b[0m - \u001b[34m\u001b[1mECL not specified; using IERS2010.\u001b[0m\n",
      "\u001b[32m2025-08-22 11:39:30.857\u001b[0m | \u001b[34m\u001b[1mDEBUG   \u001b[0m | \u001b[36mpint.models.astrometry\u001b[0m:\u001b[36mssb_to_psb_xyz_ECL\u001b[0m:\u001b[36m983\u001b[0m - \u001b[34m\u001b[1mECL not specified; using IERS2010.\u001b[0m\n",
      "\u001b[32m2025-08-22 11:39:30.876\u001b[0m | \u001b[34m\u001b[1mDEBUG   \u001b[0m | \u001b[36mpint.models.astrometry\u001b[0m:\u001b[36mssb_to_psb_xyz_ECL\u001b[0m:\u001b[36m983\u001b[0m - \u001b[34m\u001b[1mECL not specified; using IERS2010.\u001b[0m\n",
      "\u001b[32m2025-08-22 11:39:30.897\u001b[0m | \u001b[34m\u001b[1mDEBUG   \u001b[0m | \u001b[36mpint.models.astrometry\u001b[0m:\u001b[36mssb_to_psb_xyz_ECL\u001b[0m:\u001b[36m983\u001b[0m - \u001b[34m\u001b[1mECL not specified; using IERS2010.\u001b[0m\n",
      "\u001b[32m2025-08-22 11:39:34.011\u001b[0m | \u001b[34m\u001b[1mDEBUG   \u001b[0m | \u001b[36mpint.models.astrometry\u001b[0m:\u001b[36mssb_to_psb_xyz_ECL\u001b[0m:\u001b[36m983\u001b[0m - \u001b[34m\u001b[1mECL not specified; using IERS2010.\u001b[0m\n",
      "\u001b[32m2025-08-22 11:39:34.029\u001b[0m | \u001b[34m\u001b[1mDEBUG   \u001b[0m | \u001b[36mpint.models.astrometry\u001b[0m:\u001b[36mssb_to_psb_xyz_ECL\u001b[0m:\u001b[36m983\u001b[0m - \u001b[34m\u001b[1mECL not specified; using IERS2010.\u001b[0m\n",
      "\u001b[32m2025-08-22 11:39:34.049\u001b[0m | \u001b[34m\u001b[1mDEBUG   \u001b[0m | \u001b[36mpint.models.astrometry\u001b[0m:\u001b[36mssb_to_psb_xyz_ECL\u001b[0m:\u001b[36m983\u001b[0m - \u001b[34m\u001b[1mECL not specified; using IERS2010.\u001b[0m\n",
      "\u001b[32m2025-08-22 11:39:36.970\u001b[0m | \u001b[34m\u001b[1mDEBUG   \u001b[0m | \u001b[36mpint.models.astrometry\u001b[0m:\u001b[36mssb_to_psb_xyz_ECL\u001b[0m:\u001b[36m983\u001b[0m - \u001b[34m\u001b[1mECL not specified; using IERS2010.\u001b[0m\n",
      "\u001b[32m2025-08-22 11:39:36.988\u001b[0m | \u001b[34m\u001b[1mDEBUG   \u001b[0m | \u001b[36mpint.models.astrometry\u001b[0m:\u001b[36mssb_to_psb_xyz_ECL\u001b[0m:\u001b[36m983\u001b[0m - \u001b[34m\u001b[1mECL not specified; using IERS2010.\u001b[0m\n",
      "\u001b[32m2025-08-22 11:39:37.010\u001b[0m | \u001b[34m\u001b[1mDEBUG   \u001b[0m | \u001b[36mpint.models.astrometry\u001b[0m:\u001b[36mssb_to_psb_xyz_ECL\u001b[0m:\u001b[36m983\u001b[0m - \u001b[34m\u001b[1mECL not specified; using IERS2010.\u001b[0m\n",
      "\u001b[32m2025-08-22 11:39:39.901\u001b[0m | \u001b[34m\u001b[1mDEBUG   \u001b[0m | \u001b[36mpint.models.astrometry\u001b[0m:\u001b[36mssb_to_psb_xyz_ECL\u001b[0m:\u001b[36m983\u001b[0m - \u001b[34m\u001b[1mECL not specified; using IERS2010.\u001b[0m\n",
      "\u001b[32m2025-08-22 11:39:39.919\u001b[0m | \u001b[34m\u001b[1mDEBUG   \u001b[0m | \u001b[36mpint.models.astrometry\u001b[0m:\u001b[36mssb_to_psb_xyz_ECL\u001b[0m:\u001b[36m983\u001b[0m - \u001b[34m\u001b[1mECL not specified; using IERS2010.\u001b[0m\n",
      "\u001b[32m2025-08-22 11:39:39.940\u001b[0m | \u001b[34m\u001b[1mDEBUG   \u001b[0m | \u001b[36mpint.models.astrometry\u001b[0m:\u001b[36mssb_to_psb_xyz_ECL\u001b[0m:\u001b[36m983\u001b[0m - \u001b[34m\u001b[1mECL not specified; using IERS2010.\u001b[0m\n",
      "\u001b[32m2025-08-22 11:39:43.748\u001b[0m | \u001b[34m\u001b[1mDEBUG   \u001b[0m | \u001b[36mpint.models.astrometry\u001b[0m:\u001b[36mssb_to_psb_xyz_ECL\u001b[0m:\u001b[36m983\u001b[0m - \u001b[34m\u001b[1mECL not specified; using IERS2010.\u001b[0m\n",
      "\u001b[32m2025-08-22 11:39:43.766\u001b[0m | \u001b[34m\u001b[1mDEBUG   \u001b[0m | \u001b[36mpint.models.astrometry\u001b[0m:\u001b[36mssb_to_psb_xyz_ECL\u001b[0m:\u001b[36m983\u001b[0m - \u001b[34m\u001b[1mECL not specified; using IERS2010.\u001b[0m\n",
      "\u001b[32m2025-08-22 11:39:43.786\u001b[0m | \u001b[34m\u001b[1mDEBUG   \u001b[0m | \u001b[36mpint.models.astrometry\u001b[0m:\u001b[36mssb_to_psb_xyz_ECL\u001b[0m:\u001b[36m983\u001b[0m - \u001b[34m\u001b[1mECL not specified; using IERS2010.\u001b[0m\n",
      "\u001b[32m2025-08-22 11:39:46.922\u001b[0m | \u001b[34m\u001b[1mDEBUG   \u001b[0m | \u001b[36mpint.models.astrometry\u001b[0m:\u001b[36mssb_to_psb_xyz_ECL\u001b[0m:\u001b[36m983\u001b[0m - \u001b[34m\u001b[1mECL not specified; using IERS2010.\u001b[0m\n",
      "\u001b[32m2025-08-22 11:39:46.941\u001b[0m | \u001b[34m\u001b[1mDEBUG   \u001b[0m | \u001b[36mpint.models.astrometry\u001b[0m:\u001b[36mssb_to_psb_xyz_ECL\u001b[0m:\u001b[36m983\u001b[0m - \u001b[34m\u001b[1mECL not specified; using IERS2010.\u001b[0m\n",
      "\u001b[32m2025-08-22 11:39:46.961\u001b[0m | \u001b[34m\u001b[1mDEBUG   \u001b[0m | \u001b[36mpint.models.astrometry\u001b[0m:\u001b[36mssb_to_psb_xyz_ECL\u001b[0m:\u001b[36m983\u001b[0m - \u001b[34m\u001b[1mECL not specified; using IERS2010.\u001b[0m\n",
      "\u001b[32m2025-08-22 11:39:47.344\u001b[0m | \u001b[34m\u001b[1mDEBUG   \u001b[0m | \u001b[36mpint.models.astrometry\u001b[0m:\u001b[36mssb_to_psb_xyz_ECL\u001b[0m:\u001b[36m983\u001b[0m - \u001b[34m\u001b[1mECL not specified; using IERS2010.\u001b[0m\n",
      "\u001b[32m2025-08-22 11:39:47.392\u001b[0m | \u001b[34m\u001b[1mDEBUG   \u001b[0m | \u001b[36mpint.models.astrometry\u001b[0m:\u001b[36mssb_to_psb_xyz_ECL\u001b[0m:\u001b[36m983\u001b[0m - \u001b[34m\u001b[1mECL not specified; using IERS2010.\u001b[0m\n",
      "\u001b[32m2025-08-22 11:39:50.369\u001b[0m | \u001b[34m\u001b[1mDEBUG   \u001b[0m | \u001b[36mpint.models.astrometry\u001b[0m:\u001b[36mssb_to_psb_xyz_ECL\u001b[0m:\u001b[36m983\u001b[0m - \u001b[34m\u001b[1mECL not specified; using IERS2010.\u001b[0m\n",
      "\u001b[32m2025-08-22 11:39:50.387\u001b[0m | \u001b[34m\u001b[1mDEBUG   \u001b[0m | \u001b[36mpint.models.astrometry\u001b[0m:\u001b[36mssb_to_psb_xyz_ECL\u001b[0m:\u001b[36m983\u001b[0m - \u001b[34m\u001b[1mECL not specified; using IERS2010.\u001b[0m\n",
      "\u001b[32m2025-08-22 11:39:50.408\u001b[0m | \u001b[34m\u001b[1mDEBUG   \u001b[0m | \u001b[36mpint.models.astrometry\u001b[0m:\u001b[36mssb_to_psb_xyz_ECL\u001b[0m:\u001b[36m983\u001b[0m - \u001b[34m\u001b[1mECL not specified; using IERS2010.\u001b[0m\n"
     ]
    }
   ],
   "source": [
    "psr = ePulsar(mo, to)"
   ]
  },
  {
   "cell_type": "code",
   "execution_count": 14,
   "metadata": {},
   "outputs": [],
   "source": [
    "psrl = ou.make_single_psr_model_scaled_errors(psr, tm_variable=True)"
   ]
  },
  {
   "cell_type": "code",
   "execution_count": null,
   "metadata": {},
   "outputs": [],
   "source": [
    "def run_discovery_outlier_analysis():\n",
    "    psrl = ou.make_single_psr_model_scaled_errors(psr, tm_variable=True)\n",
    "    jcond = jax.jit(ou.make_sample_cond_with_tm(psrl))\n",
    "    jclogl = jax.jit(psrl.clogL)"
   ]
  },
  {
   "cell_type": "code",
   "execution_count": 16,
   "metadata": {},
   "outputs": [],
   "source": [
    "pdict = ds.priordict_standard.copy()\n",
    "pdict.update({f'(.*_)?alpha_scaling\\\\(([0-9]*)\\\\)': [0.999, 1.001]})\n",
    "pdict.update({f'(.*_)?timingmodel_coefficients\\\\(([0-9]*)\\\\)': [0.999, 1.001]})\n",
    "np.random.seed(1)\n",
    "test_pars = ds.prior.sample_uniform(psrl.logL.params, priordict=pdict)"
   ]
  },
  {
   "cell_type": "code",
   "execution_count": 17,
   "metadata": {},
   "outputs": [],
   "source": [
    "# key, out = psrl.sample_conditional(jax.random.key(0), test_pars)\n",
    "key, out = jcond(jax.random.key(0), test_pars)\n",
    "test_pars.update(out)"
   ]
  },
  {
   "cell_type": "code",
   "execution_count": 26,
   "metadata": {},
   "outputs": [],
   "source": [
    "gibbs_fn = ou.make_gibbs_fn(psrl, pdict)\n",
    "jgibbs = jax.jit(gibbs_fn)\n",
    "numpyro_model = ou.make_numpyro_outlier_model(psrl, psr)"
   ]
  },
  {
   "cell_type": "code",
   "execution_count": 21,
   "metadata": {},
   "outputs": [
    {
     "name": "stdout",
     "output_type": "stream",
     "text": [
      "5.83 ms ± 181 μs per loop (mean ± std. dev. of 7 runs, 100 loops each)\n"
     ]
    }
   ],
   "source": [
    "%%timeit\n",
    "jclogl(test_pars)"
   ]
  },
  {
   "cell_type": "code",
   "execution_count": 27,
   "metadata": {},
   "outputs": [],
   "source": [
    "hmc_kernel = infer.NUTS(numpyro_model, max_tree_depth=10, target_accept_prob=0.99)\n",
    "kernel = infer.HMCGibbs(hmc_kernel, gibbs_fn=jgibbs, gibbs_sites=['theta','z_i', 'alpha_i', 'coeffs', 'q'])\n",
    "mcmc = infer.MCMC(kernel, num_warmup=20, num_samples=100, num_chains=1)"
   ]
  },
  {
   "cell_type": "code",
   "execution_count": 28,
   "metadata": {},
   "outputs": [
    {
     "name": "stderr",
     "output_type": "stream",
     "text": [
      "sample: 100%|██████████| 120/120 [02:34<00:00,  1.29s/it, 3 steps of size 7.73e-03. acc. prob=0.96]   \n"
     ]
    }
   ],
   "source": [
    "mcmc.run(jax.random.PRNGKey(0))"
   ]
  },
  {
   "cell_type": "code",
   "execution_count": 30,
   "metadata": {},
   "outputs": [],
   "source": [
    "samples = mcmc.get_samples()"
   ]
  },
  {
   "cell_type": "code",
   "execution_count": 31,
   "metadata": {},
   "outputs": [
    {
     "data": {
      "text/plain": [
       "{'J0437-4715_red_noise_log10_rho(30)': Array([[-8.15254235, -8.16543012, -7.8873038 , ..., -6.28178954,\n",
       "         -8.15499843, -7.10285699],\n",
       "        [-8.15240914, -8.16506368, -7.88812729, ..., -6.28214832,\n",
       "         -8.15497149, -7.10268508],\n",
       "        [-8.1524299 , -8.16461696, -7.88830136, ..., -6.28188983,\n",
       "         -8.15444832, -7.10223795],\n",
       "        ...,\n",
       "        [-8.48733186, -8.01994006, -8.07720889, ..., -6.78446585,\n",
       "         -8.2365634 , -7.65771441],\n",
       "        [-8.48722877, -8.01312229, -8.08420866, ..., -6.79710647,\n",
       "         -8.23477027, -7.66978725],\n",
       "        [-8.48721123, -8.01311474, -8.08372036, ..., -6.7966455 ,\n",
       "         -8.23508602, -7.66946723]], dtype=float64),\n",
       " 'alpha_i': Array([[1.27476663e+00, 5.86331707e+00, 6.11743957e-01, ...,\n",
       "         1.59943048e+01, 3.86974723e+01, 6.18308520e-01],\n",
       "        [1.13222372e+00, 1.68330965e+00, 3.02175188e+08, ...,\n",
       "         6.61161970e-01, 7.72195187e-01, 4.47602748e+01],\n",
       "        [1.55212217e+00, 2.03201965e+00, 1.79786843e+00, ...,\n",
       "         6.68954946e-01, 7.68734160e+00, 1.66807233e+01],\n",
       "        ...,\n",
       "        [6.44467979e-01, 4.22422663e+00, 3.57694418e+00, ...,\n",
       "         8.11170856e+01, 3.06433910e+00, 6.38330626e+03],\n",
       "        [1.41309222e+00, 1.15825483e+00, 1.37083044e+00, ...,\n",
       "         1.40068434e+00, 3.31741356e-01, 1.10786059e+00],\n",
       "        [3.69744471e+00, 1.60100211e+01, 4.98792403e+00, ...,\n",
       "         1.15378908e+01, 9.25383619e+00, 1.36232018e+00]], dtype=float64),\n",
       " 'coeffs': Array([[ 9.33167605e-04,  7.48372513e-05, -1.08413956e-04, ...,\n",
       "         -5.79125791e-09, -3.52811061e-08,  1.72302989e-07],\n",
       "        [ 9.40238737e-04,  7.48274853e-05, -1.04048224e-04, ...,\n",
       "          5.27499872e-09,  2.44687310e-08,  7.76546075e-08],\n",
       "        [ 9.41782083e-04,  7.02471332e-05, -1.08566161e-04, ...,\n",
       "          1.86079434e-09, -1.82799476e-07,  3.20079316e-08],\n",
       "        ...,\n",
       "        [ 9.87036865e-04,  2.38256706e-05, -8.27883439e-05, ...,\n",
       "          7.98007823e-09,  1.75757060e-08,  3.09631856e-09],\n",
       "        [ 9.89587871e-04,  2.01243542e-05, -7.97183313e-05, ...,\n",
       "          1.20964898e-08, -4.16342931e-09,  1.65418515e-10],\n",
       "        [ 9.89041354e-04,  1.97296449e-05, -8.11381127e-05, ...,\n",
       "          4.57732436e-09, -1.35580832e-08,  6.08063602e-09]],      dtype=float64),\n",
       " 'ecorrs': Array([[-5.99392906, -6.72671928],\n",
       "        [-5.99353597, -6.72601815],\n",
       "        [-5.99347809, -6.72372443],\n",
       "        [-5.99321722, -6.72364321],\n",
       "        [-5.99925307, -6.72863663],\n",
       "        [-6.09993369, -6.8184907 ],\n",
       "        [-6.09961924, -6.81812585],\n",
       "        [-6.09824295, -6.81824807],\n",
       "        [-6.09726506, -6.81733083],\n",
       "        [-6.07124356, -6.82539032],\n",
       "        [-6.07195477, -6.82552365],\n",
       "        [-6.0689131 , -6.82822984],\n",
       "        [-6.06900845, -6.82671391],\n",
       "        [-6.06110894, -6.83512985],\n",
       "        [-6.04779668, -6.83098925],\n",
       "        [-6.04990018, -6.84800893],\n",
       "        [-6.0210409 , -6.83995214],\n",
       "        [-6.0130925 , -6.82751119],\n",
       "        [-6.04740142, -6.86583575],\n",
       "        [-5.96848764, -6.88016399],\n",
       "        [-5.96852494, -6.87387866],\n",
       "        [-5.96793884, -6.87403909],\n",
       "        [-6.03827462, -6.88049471],\n",
       "        [-6.03052347, -6.83508028],\n",
       "        [-6.02867782, -6.8381215 ],\n",
       "        [-6.06463847, -6.83385546],\n",
       "        [-6.02816177, -6.80059295],\n",
       "        [-6.02004908, -6.8389551 ],\n",
       "        [-6.01181244, -6.81967943],\n",
       "        [-6.01350266, -6.82139919],\n",
       "        [-6.01497807, -6.82180782],\n",
       "        [-6.01440736, -6.82144473],\n",
       "        [-6.02516461, -6.81917551],\n",
       "        [-5.96908537, -6.8630072 ],\n",
       "        [-6.04043176, -6.87297616],\n",
       "        [-6.03819937, -6.90312038],\n",
       "        [-6.03546444, -6.90383469],\n",
       "        [-6.0361574 , -6.83871743],\n",
       "        [-6.03935038, -6.82039823],\n",
       "        [-6.01819612, -6.78957284],\n",
       "        [-6.03096736, -6.78532047],\n",
       "        [-5.98921384, -6.75253018],\n",
       "        [-6.00632081, -6.75587437],\n",
       "        [-6.01204217, -6.7608845 ],\n",
       "        [-6.0130455 , -6.75860478],\n",
       "        [-6.00088004, -6.76107044],\n",
       "        [-6.06933889, -6.77213816],\n",
       "        [-6.05378535, -6.77307133],\n",
       "        [-6.04128855, -6.80839652],\n",
       "        [-6.03261127, -6.80872278],\n",
       "        [-6.02868548, -6.83460964],\n",
       "        [-6.02315129, -6.85637411],\n",
       "        [-5.99299422, -6.87245286],\n",
       "        [-5.9795049 , -6.76994637],\n",
       "        [-5.9934799 , -6.77085712],\n",
       "        [-5.96185324, -6.76805713],\n",
       "        [-6.05735959, -6.76846286],\n",
       "        [-6.0509099 , -6.77415776],\n",
       "        [-6.02896679, -6.77538744],\n",
       "        [-6.00884251, -6.76924296],\n",
       "        [-6.00438897, -6.75874081],\n",
       "        [-6.05230678, -6.83250546],\n",
       "        [-6.06641839, -6.79271949],\n",
       "        [-6.0282465 , -6.7581251 ],\n",
       "        [-6.02810684, -6.75937153],\n",
       "        [-6.05563915, -6.77872367],\n",
       "        [-6.0534701 , -6.77727749],\n",
       "        [-6.05547098, -6.73650517],\n",
       "        [-6.05582354, -6.74066835],\n",
       "        [-6.05778144, -6.74192553],\n",
       "        [-6.06514337, -6.79179254],\n",
       "        [-6.05688099, -6.77366523],\n",
       "        [-6.05041388, -6.76950799],\n",
       "        [-6.04247564, -6.75414936],\n",
       "        [-6.0210741 , -6.77559482],\n",
       "        [-6.0133105 , -6.83772209],\n",
       "        [-6.05411409, -6.80638018],\n",
       "        [-5.99486324, -6.85247273],\n",
       "        [-6.067596  , -6.85918025],\n",
       "        [-6.0050739 , -6.86240893],\n",
       "        [-6.05153748, -6.83137311],\n",
       "        [-6.02825625, -6.79155729],\n",
       "        [-6.03064953, -6.78747665],\n",
       "        [-6.00826903, -6.75917707],\n",
       "        [-6.00572465, -6.80052701],\n",
       "        [-6.01449405, -6.75960367],\n",
       "        [-6.01469323, -6.76457953],\n",
       "        [-6.00963155, -6.7746386 ],\n",
       "        [-6.03090592, -6.76834454],\n",
       "        [-6.03256392, -6.76882501],\n",
       "        [-6.04626563, -6.77855613],\n",
       "        [-6.04130786, -6.74762672],\n",
       "        [-6.0225613 , -6.8332489 ],\n",
       "        [-5.97670257, -6.83974753],\n",
       "        [-6.01487846, -6.82945286],\n",
       "        [-6.08018682, -6.83122665],\n",
       "        [-6.07981713, -6.83513731],\n",
       "        [-6.00231002, -6.79064159],\n",
       "        [-6.0023961 , -6.79566246],\n",
       "        [-6.0046974 , -6.79221824]], dtype=float64),\n",
       " 'efacs': Array([[1.1894663 , 1.50728272],\n",
       "        [1.18676485, 1.38102616],\n",
       "        [1.18553033, 1.6897329 ],\n",
       "        [1.18412728, 1.55275163],\n",
       "        [1.18181832, 1.34592927],\n",
       "        [2.92500945, 1.33515868],\n",
       "        [2.92588523, 1.61982555],\n",
       "        [2.92535331, 1.43801762],\n",
       "        [2.92593524, 1.30345203],\n",
       "        [3.10193204, 1.37990366],\n",
       "        [3.10057281, 1.4968679 ],\n",
       "        [3.10170236, 1.75802146],\n",
       "        [3.09740106, 1.57368833],\n",
       "        [3.09109883, 1.14583458],\n",
       "        [4.04605775, 1.2162464 ],\n",
       "        [5.52411575, 1.14944114],\n",
       "        [6.5410197 , 1.33725184],\n",
       "        [6.61347663, 1.33893806],\n",
       "        [6.56774428, 1.2085977 ],\n",
       "        [7.09600822, 1.28612476],\n",
       "        [7.08975277, 1.45348165],\n",
       "        [7.09001482, 1.31754747],\n",
       "        [6.84282241, 1.31933014],\n",
       "        [6.75165783, 1.30690513],\n",
       "        [7.17879856, 1.23607758],\n",
       "        [6.71529408, 1.15014246],\n",
       "        [6.70775615, 1.11870904],\n",
       "        [6.67241226, 1.19292027],\n",
       "        [6.67868695, 1.24794888],\n",
       "        [6.67897723, 1.46107965],\n",
       "        [6.67757109, 1.3605347 ],\n",
       "        [6.67783529, 1.28441439],\n",
       "        [6.70068706, 1.1016876 ],\n",
       "        [6.74475567, 1.15635738],\n",
       "        [6.75150001, 1.15979031],\n",
       "        [6.56619465, 1.18315575],\n",
       "        [6.56641584, 1.10901056],\n",
       "        [6.59056448, 1.29558351],\n",
       "        [6.59191856, 1.19887882],\n",
       "        [6.57028308, 1.27059283],\n",
       "        [6.59219216, 1.30524446],\n",
       "        [6.56681063, 1.20916376],\n",
       "        [6.55623429, 1.08251477],\n",
       "        [6.56099505, 1.18709913],\n",
       "        [6.55727083, 1.29627529],\n",
       "        [6.55130897, 1.15957716],\n",
       "        [6.56414438, 1.18104881],\n",
       "        [6.49963208, 1.16904827],\n",
       "        [6.40888618, 1.09229477],\n",
       "        [6.40696757, 1.22424663],\n",
       "        [6.36554128, 1.102661  ],\n",
       "        [6.29775509, 1.33213235],\n",
       "        [6.35581578, 1.24827137],\n",
       "        [6.31354155, 1.19912577],\n",
       "        [6.29665415, 1.19440786],\n",
       "        [6.27989183, 1.18327834],\n",
       "        [6.30640393, 1.21046556],\n",
       "        [6.30870025, 1.19594799],\n",
       "        [6.28966973, 1.18292838],\n",
       "        [6.18070177, 1.09796842],\n",
       "        [6.15235276, 1.248093  ],\n",
       "        [6.24268826, 1.22746093],\n",
       "        [6.21429009, 1.26037949],\n",
       "        [6.25802022, 1.24416582],\n",
       "        [5.99336432, 1.22580916],\n",
       "        [6.34381273, 1.18407302],\n",
       "        [6.34159939, 1.3795456 ],\n",
       "        [6.3445318 , 1.0670208 ],\n",
       "        [6.34137027, 1.16837896],\n",
       "        [6.34374701, 1.09446736],\n",
       "        [6.09587534, 1.17959561],\n",
       "        [6.10675036, 1.08962978],\n",
       "        [6.11681839, 1.16666775],\n",
       "        [6.02223824, 1.23931171],\n",
       "        [6.25103019, 1.1492546 ],\n",
       "        [5.98465591, 1.14639676],\n",
       "        [6.00385941, 1.2289034 ],\n",
       "        [6.09119803, 1.11833412],\n",
       "        [6.08315103, 1.13082858],\n",
       "        [5.96525047, 1.22106406],\n",
       "        [5.98748392, 1.21698701],\n",
       "        [5.99321852, 1.29987281],\n",
       "        [5.99150775, 1.44227515],\n",
       "        [5.92496522, 1.22552893],\n",
       "        [5.77196563, 1.21153227],\n",
       "        [5.84746351, 1.11511488],\n",
       "        [5.84098527, 1.20467441],\n",
       "        [5.81812425, 1.16183097],\n",
       "        [5.78623581, 1.1912367 ],\n",
       "        [5.7924471 , 1.35078961],\n",
       "        [5.73618968, 1.15915231],\n",
       "        [5.71710084, 1.20493982],\n",
       "        [5.82886226, 1.16832103],\n",
       "        [5.54604447, 1.20223774],\n",
       "        [5.85100686, 1.21735897],\n",
       "        [5.84215258, 1.18406754],\n",
       "        [5.84427445, 1.18798282],\n",
       "        [5.84927085, 1.08732695],\n",
       "        [5.67381308, 1.23896791],\n",
       "        [5.67597436, 1.33687451]], dtype=float64),\n",
       " 'equads': Array([[-5.6156452 , -6.44474262],\n",
       "        [-5.61606603, -6.48650333],\n",
       "        [-5.61691975, -6.34964737],\n",
       "        [-5.61707527, -6.37355352],\n",
       "        [-5.6197283 , -6.46077628],\n",
       "        [-6.10145419, -6.4758978 ],\n",
       "        [-6.10140692, -6.35374605],\n",
       "        [-6.10152632, -6.42612137],\n",
       "        [-6.10100532, -6.47117701],\n",
       "        [-6.14717216, -6.53987916],\n",
       "        [-6.14636524, -6.50596604],\n",
       "        [-6.14523427, -6.4075053 ],\n",
       "        [-6.14562194, -6.4502099 ],\n",
       "        [-6.13502605, -6.22548359],\n",
       "        [-6.31266031, -6.25439204],\n",
       "        [-6.66368365, -6.29382603],\n",
       "        [-6.95952025, -6.37114212],\n",
       "        [-6.93594409, -6.37865012],\n",
       "        [-7.08971958, -6.42502762],\n",
       "        [-6.91229503, -6.39044396],\n",
       "        [-6.91332884, -6.32393893],\n",
       "        [-6.91278428, -6.36909409],\n",
       "        [-7.01427476, -6.4743038 ],\n",
       "        [-7.12009927, -6.49315852],\n",
       "        [-8.30802353, -6.49871438],\n",
       "        [-8.26798852, -6.53692065],\n",
       "        [-8.36929455, -6.57678662],\n",
       "        [-8.33967819, -6.62020385],\n",
       "        [-8.33953089, -6.84531616],\n",
       "        [-8.33964863, -6.77948105],\n",
       "        [-8.33944861, -6.79998897],\n",
       "        [-8.33945088, -6.81748774],\n",
       "        [-8.33913795, -6.51730286],\n",
       "        [-8.34109259, -6.62472473],\n",
       "        [-8.41602573, -6.6285089 ],\n",
       "        [-8.37747177, -6.61510714],\n",
       "        [-8.3774318 , -6.63755693],\n",
       "        [-8.35576774, -6.91697893],\n",
       "        [-8.39973422, -6.935791  ],\n",
       "        [-8.38290948, -6.93024103],\n",
       "        [-8.37613599, -6.90142389],\n",
       "        [-8.39559944, -6.79162779],\n",
       "        [-8.18561004, -6.62412644],\n",
       "        [-8.18636767, -6.83123166],\n",
       "        [-8.18629919, -6.80265799],\n",
       "        [-8.06085578, -6.77370041],\n",
       "        [-8.33772183, -6.75044843],\n",
       "        [-8.33648103, -6.73472663],\n",
       "        [-8.4521412 , -6.55674532],\n",
       "        [-8.45217049, -6.75893337],\n",
       "        [-8.4599588 , -6.60607727],\n",
       "        [-8.36805545, -6.76228539],\n",
       "        [-8.2633785 , -6.77485162],\n",
       "        [-8.23381532, -6.77189454],\n",
       "        [-8.28523746, -6.82714174],\n",
       "        [-8.20035685, -6.85458893],\n",
       "        [-8.24545632, -6.90735929],\n",
       "        [-8.24173443, -6.93114873],\n",
       "        [-8.15809255, -6.89060095],\n",
       "        [-8.11076627, -6.67058067],\n",
       "        [-8.11274695, -6.87788985],\n",
       "        [-8.0850559 , -6.89667599],\n",
       "        [-8.23969955, -6.83874724],\n",
       "        [-8.20504882, -6.8455068 ],\n",
       "        [-8.21616517, -7.00825346],\n",
       "        [-8.2632011 , -6.87910942],\n",
       "        [-8.26285975, -6.81748847],\n",
       "        [-8.23604253, -6.62407298],\n",
       "        [-8.2362396 , -6.57702254],\n",
       "        [-8.23593557, -6.6093593 ],\n",
       "        [-8.28258249, -6.61683472],\n",
       "        [-8.28838273, -6.65093755],\n",
       "        [-8.28825687, -6.80718512],\n",
       "        [-8.33121456, -6.79497658],\n",
       "        [-8.35408927, -6.6153333 ],\n",
       "        [-8.35259076, -6.71089479],\n",
       "        [-8.36400717, -6.86937398],\n",
       "        [-8.36675505, -6.70960734],\n",
       "        [-8.42309042, -6.62838917],\n",
       "        [-8.30307221, -6.72390103],\n",
       "        [-8.26557683, -6.72541531],\n",
       "        [-8.26460693, -7.40910215],\n",
       "        [-8.26457343, -7.40229148],\n",
       "        [-8.26314902, -6.78097712],\n",
       "        [-8.36997709, -6.87089705],\n",
       "        [-8.37727085, -6.63357062],\n",
       "        [-8.37675386, -6.83761634],\n",
       "        [-8.4265194 , -6.84640147],\n",
       "        [-8.4318621 , -6.9963607 ],\n",
       "        [-8.43180204, -6.96175984],\n",
       "        [-8.43191779, -6.84202628],\n",
       "        [-8.44702562, -6.78333282],\n",
       "        [-8.4097356 , -6.73719991],\n",
       "        [-8.31015594, -6.77443269],\n",
       "        [-8.3113951 , -6.77073096],\n",
       "        [-8.30636453, -6.7308153 ],\n",
       "        [-8.1921669 , -6.88743966],\n",
       "        [-8.28101   , -6.69506338],\n",
       "        [-8.27929239, -7.18714846],\n",
       "        [-8.27931893, -7.16523543]], dtype=float64),\n",
       " 'q': Array([[2.12559091e-02, 2.12559091e-02, 2.12559091e-02, ...,\n",
       "         2.12559091e-02, 2.12559091e-02, 2.12559091e-02],\n",
       "        [2.11979947e-02, 2.11979947e-02, 2.11979947e-02, ...,\n",
       "         2.11979947e-02, 2.11979947e-02, 2.11979947e-02],\n",
       "        [1.94331249e-02, 1.94331249e-02, 1.82801262e-05, ...,\n",
       "         1.94331249e-02, 1.94331249e-02, 1.94331249e-02],\n",
       "        ...,\n",
       "        [2.70666853e-02, 2.70666853e-02, 2.70666853e-02, ...,\n",
       "         2.70666853e-02, 2.70666853e-02, 2.70666853e-02],\n",
       "        [2.65577583e-02, 2.65577583e-02, 2.65577583e-02, ...,\n",
       "         2.65577583e-02, 2.65577583e-02, 2.65577583e-02],\n",
       "        [2.75217904e-02, 2.75217904e-02, 2.75217904e-02, ...,\n",
       "         2.75217904e-02, 2.75217904e-02, 2.75217904e-02]], dtype=float64),\n",
       " 'theta': Array([0.02125591, 0.02119799, 0.01943312, 0.02116623, 0.02252499,\n",
       "        0.02130453, 0.02092354, 0.01958493, 0.0200324 , 0.02268374,\n",
       "        0.02434913, 0.02243741, 0.02385217, 0.02358751, 0.02312554,\n",
       "        0.0204246 , 0.02258958, 0.0226151 , 0.0213489 , 0.02218049,\n",
       "        0.02300622, 0.02132207, 0.02171771, 0.02051204, 0.02023489,\n",
       "        0.02153383, 0.02305239, 0.02349071, 0.02246242, 0.02054608,\n",
       "        0.02000297, 0.02368679, 0.02424006, 0.02401934, 0.02343129,\n",
       "        0.02403623, 0.02409672, 0.02405051, 0.02266189, 0.02404174,\n",
       "        0.02402264, 0.02353902, 0.02294661, 0.02407511, 0.02477658,\n",
       "        0.02354192, 0.02362565, 0.02302915, 0.02490035, 0.02536283,\n",
       "        0.02338182, 0.02392167, 0.02486121, 0.02425722, 0.02330285,\n",
       "        0.02405629, 0.02317667, 0.02346387, 0.02708602, 0.02656097,\n",
       "        0.02213354, 0.02435029, 0.02515777, 0.02494269, 0.02669091,\n",
       "        0.02528701, 0.02729836, 0.02522105, 0.02580263, 0.02431079,\n",
       "        0.02460028, 0.02516289, 0.02468355, 0.02321694, 0.02423733,\n",
       "        0.02543206, 0.02497601, 0.02395614, 0.02357409, 0.02532473,\n",
       "        0.02512374, 0.0241791 , 0.024885  , 0.02405576, 0.02513393,\n",
       "        0.02504008, 0.02649284, 0.02600272, 0.02609416, 0.02741868,\n",
       "        0.02677373, 0.02677368, 0.027249  , 0.02703232, 0.02833791,\n",
       "        0.02808084, 0.02873042, 0.02706669, 0.02655776, 0.02752179],      dtype=float64),\n",
       " 'z_i': Array([[0., 0., 0., ..., 0., 0., 0.],\n",
       "        [0., 0., 1., ..., 0., 0., 0.],\n",
       "        [0., 0., 0., ..., 0., 0., 0.],\n",
       "        ...,\n",
       "        [0., 0., 0., ..., 0., 0., 0.],\n",
       "        [0., 0., 0., ..., 0., 0., 0.],\n",
       "        [0., 0., 0., ..., 0., 0., 0.]], dtype=float64)}"
      ]
     },
     "execution_count": 31,
     "metadata": {},
     "output_type": "execute_result"
    }
   ],
   "source": [
    "samples"
   ]
  },
  {
   "cell_type": "code",
   "execution_count": 34,
   "metadata": {},
   "outputs": [
    {
     "data": {
      "text/plain": [
       "Array(245, dtype=int64)"
      ]
     },
     "execution_count": 34,
     "metadata": {},
     "output_type": "execute_result"
    }
   ],
   "source": [
    "np.sum(bad_toa_mask)"
   ]
  },
  {
   "cell_type": "code",
   "execution_count": 35,
   "metadata": {},
   "outputs": [
    {
     "data": {
      "image/png": "[encoded data removed]",
      "text/plain": [
       "<Figure size 640x480 with 1 Axes>"
      ]
     },
     "metadata": {},
     "output_type": "display_data"
    },
    {
     "data": {
      "image/png": "[encoded data removed]",
      "text/plain": [
       "<Figure size 640x480 with 1 Axes>"
      ]
     },
     "metadata": {},
     "output_type": "display_data"
    }
   ],
   "source": [
    "ds_psr = psr\n",
    "plt.plot(np.mean(samples['z_i'], axis=0))\n",
    "plt.title(f\"{ds_psr.name} Ouliers\")\n",
    "plt.xlabel(\"TOA Number\")\n",
    "plt.ylabel(\"$\\\\langle z_i \\\\rangle$\")\n",
    "# plt.scatter([100, 345, 900, 1000], [1, 1, 1, 1], marker='o', facecolor='none', edgecolor='r')\n",
    "# plt.yscale(\"log\")\n",
    "plt.show()\n",
    "bad_toa_mask = np.mean(samples['z_i'], axis=0) > 0.1\n",
    "\n",
    "plt.errorbar(ds_psr.toas / 86400, ds_psr.residuals, yerr=ds_psr.toaerrs, alpha=0.1, fmt='o')\n",
    "plt.scatter(ds_psr.toas[bad_toa_mask] / 86400, ds_psr.residuals[bad_toa_mask], facecolor='none', edgecolor='r')\n",
    "#plt.ylim(-1e-5, 1e-5)\n",
    "plt.show()"
   ]
  },
  {
   "cell_type": "code",
   "execution_count": null,
   "metadata": {},
   "outputs": [],
   "source": [
    "if run_outlier_analysis:\n",
    "    if not load_pout: # load raw tims unless otherwise noted\n",
    "        mo,to = tc.get_model_and_toas(apply_initial_cuts=True)\n",
    "        to = setup_dmx(mo,to,frequency_ratio=tc.get_fratio(),max_delta_t=tc.get_sw_delay())\n",
    "    else:\n",
    "        mo,to = tc.get_model_and_toas(pout_tim_path=load_pout)\n",
    "        to = setup_dmx(mo,to,frequency_ratio=tc.get_fratio(),max_delta_t=tc.get_sw_delay())\n",
    "        \n",
    "    # Run outlier analysis and assign outlier probabilities to TOAs (narrowband only)\n",
    "    # Skip calculate_pout if starting from pout.tim (load_pout is set)\n",
    "    if not using_wideband:\n",
    "        if not load_pout:\n",
    "            tc.check_outlier()\n",
    "            calculate_pout(mo, to, tc)       \n",
    "        ou.make_pout_cuts(mo, to, tc, outpct_threshold=8.0)\n",
    "\n",
    "    epochalyptica(mo,to,tc,nproc=epochdrop_threads)\n",
    "\n",
    "if use_outlier_results:        \n",
    "    mo,to = tc.get_model_and_toas(excised=True)\n",
    "if (not run_outlier_analysis) and (not use_outlier_results):\n",
    "    mo,to = tc.get_model_and_toas(apply_initial_cuts=True)\n",
    "    to = setup_dmx(mo,to,frequency_ratio=tc.get_fratio(),max_delta_t=tc.get_sw_delay())"
   ]
  },
  {
   "cell_type": "code",
   "execution_count": null,
   "metadata": {},
   "outputs": [],
   "source": [
    "# Quick breakdown of existing cut flags (automated excision)\n",
    "cuts_dict = cut_summary(to,tc)"
   ]
  },
  {
   "cell_type": "code",
   "execution_count": null,
   "metadata": {},
   "outputs": [],
   "source": [
    "# Apply manual cuts and check for redundancies\n",
    "tc.manual_cuts(to)\n",
    "to = setup_dmx(mo,to,frequency_ratio=tc.get_fratio(),max_delta_t=tc.get_sw_delay())"
   ]
  },
  {
   "cell_type": "code",
   "execution_count": null,
   "metadata": {},
   "outputs": [],
   "source": [
    "# More detailed breakdown of cuts by backend\n",
    "plot_cuts_all_backends(to, save=True)"
   ]
  },
  {
   "cell_type": "code",
   "execution_count": null,
   "metadata": {},
   "outputs": [],
   "source": [
    "# Plot residuals vs. time after auto/manual cuts\n",
    "from pint_pal.plot_utils import plot_residuals_time\n",
    "fo = tc.construct_fitter(to,mo)\n",
    "plot_residuals_time(fo, restype='prefit')"
   ]
  },
  {
   "cell_type": "code",
   "execution_count": null,
   "metadata": {},
   "outputs": [],
   "source": [
    "# Plot residuals & highlight manual cuts\n",
    "highlight_cut_resids(to,mo,tc,ylim_good=True)"
   ]
  },
  {
   "cell_type": "code",
   "execution_count": null,
   "metadata": {},
   "outputs": [],
   "source": [
    "# Fit if you want to analyze postfit residuals\n",
    "if not autorun and analyze_postfit:\n",
    "    fo.model.free_params = tc.get_free_params(fo)\n",
    "    fo.fit_toas(maxiter=tc.get_niter())"
   ]
  },
  {
   "cell_type": "code",
   "execution_count": null,
   "metadata": {},
   "outputs": [],
   "source": [
    "# Plot whitened residuals (if desired, plotsig: resid/uncertainty, avg: epoch-averaged)\n",
    "if not autorun and analyze_postfit:\n",
    "    plot_residuals_time(fo, restype='postfit', plotsig = False, avg = False, whitened = True)"
   ]
  },
  {
   "cell_type": "markdown",
   "metadata": {},
   "source": [
    "Running display_excise_dropdowns (as below) will cause dropdowns for each bad-file and bad-toa of interest to be displayed. You should choose whatever combinations of file and plot type you'd like to make, then run the cell after this one (containing the read_excise_dropdowns functions) to read in your choices. The optional arguments all_YFp, all_GTpd, and all_profile will default the checkboxes to those plot types. If not specified, the default will be 'None' (i.e. do not plot). Finally, the make_detective_plots function (next cell) will display your plots. Note that bad_toa entries with \"profile\" plots selected will plot profiles for all bad subints and bad subbands of interest (as well as the integrated profile). "
   ]
  },
  {
   "cell_type": "code",
   "execution_count": null,
   "metadata": {},
   "outputs": [],
   "source": [
    "# Display checkboxes\n",
    "if not autorun:\n",
    "    file_select_list, file_pav_list, toa_select_list, toa_pav_list = \\\n",
    "        display_excise_dropdowns(file_matches, toa_matches, all_YFp=False, all_GTpd=False, all_profile=False)"
   ]
  },
  {
   "cell_type": "markdown",
   "metadata": {},
   "source": [
    "As described above, this block will read your choices from the above dropdowns and make plots. Bad files and bad toas are dealt with separately to allow for future use of the bad-toa subint/subband info."
   ]
  },
  {
   "cell_type": "code",
   "execution_count": null,
   "metadata": {
    "scrolled": false
   },
   "outputs": [],
   "source": [
    "# Make plots (indicated by dropdown choices)\n",
    "if not autorun:\n",
    "    file_plot_list = read_excise_dropdowns(file_select_list, file_pav_list, file_matches)\n",
    "    toa_plot_list = read_excise_dropdowns(toa_select_list, toa_pav_list, toa_matches)\n",
    "    make_detective_plots(file_plot_list, file_matches)\n",
    "    make_detective_plots(toa_plot_list, toa_matches)"
   ]
  },
  {
   "cell_type": "markdown",
   "metadata": {},
   "source": [
    "If you'd like to look at the cal file associated with any bad-file or bad-toa entry listed in the yaml, run the following two cells. Just as above, the first cell displays the checkboxes (which show the file name, not the cal name!). Then pick your plot types, and run the cell that follows to create the plots (in this case, there isn't a separate step to read the dropdowns)."
   ]
  },
  {
   "cell_type": "code",
   "execution_count": null,
   "metadata": {},
   "outputs": [],
   "source": [
    "# Display cal file checkboxes\n",
    "if not autorun: cal_select_list, full_cal_files = display_cal_dropdowns(file_matches, toa_matches)"
   ]
  },
  {
   "cell_type": "code",
   "execution_count": null,
   "metadata": {},
   "outputs": [],
   "source": [
    "# Read dropdowns and make cal plots\n",
    "if not autorun: read_plot_cal_dropdowns(cal_select_list, full_cal_files)"
   ]
  },
  {
   "cell_type": "code",
   "execution_count": null,
   "metadata": {},
   "outputs": [],
   "source": [
    "# Print more detailed info about bad_toa entries\n",
    "if not autorun:\n",
    "    badtoas = tc.get_bad_toas()\n",
    "    if badtoas:\n",
    "        for bt in badtoas:\n",
    "            tc.badtoa_info(bt,to)"
   ]
  },
  {
   "cell_type": "markdown",
   "metadata": {},
   "source": [
    "The following cells allow you to visualize auto-excised TOA files. Specify the cut flags you want with \"cutkeys\" (default is ['epochdrop', 'outlier10']), then pick what kind of plot you want to see with plot_type ('profile' [default], 'GTpd', or 'YFp')."
   ]
  },
  {
   "cell_type": "code",
   "execution_count": null,
   "metadata": {},
   "outputs": [],
   "source": [
    "# Look at profiles for auto-excised TOAs (outlier10):\n",
    "if not autorun: plot_list = display_auto_ex(tc, mo, cutkeys=['outlier10'], plot_type='profile')"
   ]
  },
  {
   "cell_type": "code",
   "execution_count": null,
   "metadata": {},
   "outputs": [],
   "source": [
    "# Look at freq. vs. phase for auto-excised TOAs (epochdrop):\n",
    "if not autorun: plot_list = display_auto_ex(tc, mo, cutkeys=['epochdrop'], plot_type='GTpd')"
   ]
  }
 ],
 "metadata": {
  "kernelspec": {
   "display_name": "ng20",
   "language": "python",
   "name": "ng20"
  },
  "language_info": {
   "codemirror_mode": {
    "name": "ipython",
    "version": 3
   },
   "file_extension": ".py",
   "mimetype": "text/x-python",
   "name": "python",
   "nbconvert_exporter": "python",
   "pygments_lexer": "ipython3",
   "version": "3.11.11"
  }
 },
 "nbformat": 4,
 "nbformat_minor": 2
}
